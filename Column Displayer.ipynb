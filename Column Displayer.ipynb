{
 "cells": [
  {
   "cell_type": "code",
   "execution_count": 1,
   "id": "1e7a0a42-14e2-4c6c-93de-b129d5448380",
   "metadata": {},
   "outputs": [
    {
     "name": "stdout",
     "output_type": "stream",
     "text": [
      "Column names of the CSV file:\n",
      "AgencyCd;SiteNo;Time;Original Value (ft);Water level in feet relative to NAVD88\n"
     ]
    }
   ],
   "source": [
    "import pandas as pd\n",
    "\n",
    "def display_column_names(input_file):\n",
    "    # Read the CSV file into a DataFrame\n",
    "    df = pd.read_csv(input_file)\n",
    "\n",
    "    # Display the column names\n",
    "    column_names = df.columns\n",
    "    print(\"Column names of the CSV file:\")\n",
    "    for col in column_names:\n",
    "        print(col)\n",
    "\n",
    "# Example usage\n",
    "input_file = 'Water Lvl Master - Copy.csv'  # Replace with your input CSV file path\n",
    "\n",
    "display_column_names(input_file)\n"
   ]
  },
  {
   "cell_type": "code",
   "execution_count": 2,
   "id": "259a11a8-fce6-4810-b21b-978fa183a206",
   "metadata": {},
   "outputs": [
    {
     "name": "stdout",
     "output_type": "stream",
     "text": [
      "Column names and their corresponding column numbers:\n",
      "1. AgencyCd;SiteNo;Time;Original Value (ft);Water level in feet relative to NAVD88\n"
     ]
    }
   ],
   "source": [
    "import pandas as pd\n",
    "\n",
    "def display_column_names_and_numbers(input_file):\n",
    "    # Read the CSV file into a DataFrame\n",
    "    df = pd.read_csv(input_file)\n",
    "\n",
    "    # Display the column names and their corresponding column numbers\n",
    "    print(\"Column names and their corresponding column numbers:\")\n",
    "    for i, col in enumerate(df.columns):\n",
    "        print(f\"{i + 1}. {col}\")\n",
    "\n",
    "# Example usage\n",
    "input_file = 'Water Lvl Master - Copy.csv'  # Replace with your input CSV file path\n",
    "\n",
    "display_column_names_and_numbers(input_file)\n"
   ]
  },
  {
   "cell_type": "code",
   "execution_count": 5,
   "id": "8b68ef9d-7115-4a56-86c0-51a7bb743f75",
   "metadata": {},
   "outputs": [
    {
     "name": "stdout",
     "output_type": "stream",
     "text": [
      "Column names and their corresponding column numbers:\n",
      "1. AgencyCd\n",
      "2. SiteNo\n",
      "3. Time\n",
      "4. Original Value (ft)\n",
      "5. Water level in feet relative to NAVD88\n"
     ]
    }
   ],
   "source": [
    "import pandas as pd\n",
    "\n",
    "def display_column_names_and_numbers(input_file, delimiter=';'):\n",
    "    # Read the CSV file into a DataFrame using the specified delimiter\n",
    "    df = pd.read_csv(input_file, delimiter=delimiter)\n",
    "\n",
    "    # Display the column names and their corresponding column numbers\n",
    "    print(\"Column names and their corresponding column numbers:\")\n",
    "    for i, col in enumerate(df.columns):\n",
    "        print(f\"{i + 1}. {col}\")\n",
    "\n",
    "# Example usage\n",
    "input_file = 'Water Lvl Master - Copy.csv'  # Replace with your input CSV file path\n",
    "\n",
    "display_column_names_and_numbers(input_file)"
   ]
  },
  {
   "cell_type": "code",
   "execution_count": null,
   "id": "dffbeebe-00ca-406b-8398-f11b5d55033d",
   "metadata": {},
   "outputs": [],
   "source": []
  }
 ],
 "metadata": {
  "kernelspec": {
   "display_name": "Python 3 (ipykernel)",
   "language": "python",
   "name": "python3"
  },
  "language_info": {
   "codemirror_mode": {
    "name": "ipython",
    "version": 3
   },
   "file_extension": ".py",
   "mimetype": "text/x-python",
   "name": "python",
   "nbconvert_exporter": "python",
   "pygments_lexer": "ipython3",
   "version": "3.11.4"
  }
 },
 "nbformat": 4,
 "nbformat_minor": 5
}
