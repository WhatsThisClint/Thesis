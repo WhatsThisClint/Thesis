{
 "cells": [
  {
   "cell_type": "code",
   "execution_count": 1,
   "id": "12796a1f-83f1-4e61-b1dd-97d309c26b56",
   "metadata": {},
   "outputs": [
    {
     "name": "stdout",
     "output_type": "stream",
     "text": [
      "Mann_Kendall_Test(trend='no trend', h=False, p=0.8625512682201275, z=0.17312742523736935, Tau=0.006128133704735376, s=396.0, var_s=5205500.0, slope=2.9576618177155044e-05, intercept=0.4757180649730229)\n"
     ]
    }
   ],
   "source": [
    "import numpy as np\n",
    "import pymannkendall as mk\n",
    "\n",
    "# Data generation for analysis\n",
    "data = np.random.rand(360,1)\n",
    "\n",
    "result = mk.original_test(data)\n",
    "print(result)"
   ]
  },
  {
   "cell_type": "markdown",
   "id": "fa85d6fb-16b0-4449-b4fd-545d651852a6",
   "metadata": {},
   "source": [
    "##\n",
    "Original Mann-Kendall test (original_test): Original Mann-Kendall test is a nonparametric test, which does not consider serial correlation or seasonal effects.\n",
    "\n",
    "Hamed and Rao Modified MK Test (hamed_rao_modification_test): This modified MK test proposed by Hamed and Rao (1998) to address serial autocorrelation issues. They suggested a variance correction approach to improve trend analysis. User can consider first n significant lag by insert lag number in this function. By default, it considered all significant lags.\n",
    "\n",
    "Yue and Wang Modified MK Test (yue_wang_modification_test): This is also a variance correction method for considered serial autocorrelation proposed by Yue, S., & Wang, C. Y. (2004). User can also set their desired significant n lags for the calculation.\n",
    "\n",
    "Modified MK test using Pre-Whitening method (pre_whitening_modification_test): This test suggested by Yue and Wang (2002) to using Pre-Whitening the time series before the application of trend test.\n",
    "\n",
    "Modified MK test using Trend free Pre-Whitening method (trend_free_pre_whitening_modification_test): This test also proposed by Yue and Wang (2002) to remove trend component and then Pre-Whitening the time series before application of trend test.\n",
    "\n",
    "Multivariate MK Test (multivariate_test): This is an MK test for multiple parameters proposed by Hirsch (1982). He used this method for seasonal mk test, where he considered every month as a parameter.\n",
    "\n",
    "Seasonal MK Test (seasonal_test): For seasonal time series data, Hirsch, R.M., Slack, J.R. and Smith, R.A. (1982) proposed this test to calculate the seasonal trend.\n",
    "\n",
    "Regional MK Test (regional_test): Based onHirsch (1982) proposed seasonal mk test, Helsel, D.R. and Frans, L.M., (2006) suggest regional mk test to calculate the overall trend in a regional scale.\n",
    "\n",
    "Correlated Multivariate MK Test (correlated_multivariate_test): This multivariate mk test proposed by Hipel (1994) where the parameters are correlated.\n",
    "\n",
    "Correlated Seasonal MK Test (correlated_seasonal_test): This method proposed by Hipel (1994) used, when time series significantly correlated with the preceding one or more months/seasons.\n",
    "\n",
    "Partial MK Test (partial_test): In a real event, many factors are affecting the main studied response parameter, which can bias the trend results. To overcome this problem, Libiseller (2002) proposed this partial mk test. It required two parameters as input, where, one is response parameter and other is an independent parameter.\n",
    "\n",
    "Theil-Sen's Slope Estimator (sens_slope): This method proposed by Theil (1950) and Sen (1968) to estimate the magnitude of the monotonic trend. Intercept is calculate using Conover, W.J. (1980) method.\n",
    "\n",
    "Seasonal Theil-Sen's Slope Estimator (seasonal_sens_slope): This method proposed by Hipel (1994) to estimate the magnitude of the monotonic trend, when data has seasonal effects. Intercept is calculate using Conover, W.J. (1980) method.\n",
    "\n",
    "Function details:\n",
    "All Mann-Kendall test functions have almost similar input parameters. Those are:\n",
    "\n",
    "x: a vector (list, numpy array or pandas series) data\n",
    "alpha: significance level (0.05 is the default)\n",
    "lag: No. of First Significant Lags (Only available in hamed_rao_modification_test and yue_wang_modification_test)\n",
    "period: seasonal cycle. For monthly data it is 12, weekly data it is 52 (Only available in seasonal tests)\n",
    "And all Mann-Kendall tests return a named tuple which contained:\n",
    "\n",
    "trend: tells the trend (increasing, decreasing or no trend)\n",
    "h: True (if trend is present) or False (if the trend is absence)\n",
    "p: p-value of the significance test\n",
    "z: normalized test statistics\n",
    "Tau: Kendall Tau\n",
    "s: Mann-Kendal's score\n",
    "var_s: Variance S\n",
    "slope: Theil-Sen estimator/slope\n",
    "intercept: intercept of Kendall-Theil Robust Line, for seasonal test, full period cycle consider as unit time step\n",
    "sen's slope function required data vector. seasonal sen's slope also has optional input period, which by the default value is 12. Both sen's slope function return only slope value."
   ]
  }
 ],
 "metadata": {
  "kernelspec": {
   "display_name": "Python 3 (ipykernel)",
   "language": "python",
   "name": "python3"
  },
  "language_info": {
   "codemirror_mode": {
    "name": "ipython",
    "version": 3
   },
   "file_extension": ".py",
   "mimetype": "text/x-python",
   "name": "python",
   "nbconvert_exporter": "python",
   "pygments_lexer": "ipython3",
   "version": "3.9.17"
  }
 },
 "nbformat": 4,
 "nbformat_minor": 5
}
