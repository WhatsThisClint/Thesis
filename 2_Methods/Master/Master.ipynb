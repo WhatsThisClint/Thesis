{
 "cells": [
  {
   "cell_type": "markdown",
   "id": "dbef2243-5e4d-4e78-b1c9-92cc8f0b717b",
   "metadata": {},
   "source": [
    "# Master Methdology"
   ]
  },
  {
   "cell_type": "markdown",
   "id": "9bba4f44-cb70-4534-b5a8-a617ae82f61f",
   "metadata": {},
   "source": [
    "## Variables\n",
    "1) Unit\n",
    "\n",
    "Big/Small\n",
    "    \n",
    "2) Method\n",
    "\n",
    "    Mann Kendall/Linear Regression\n",
    "    \n",
    "3) Aggregation\n",
    "    Standardising the data over the unit before or after the aquifer \n",
    "    \n",
    "4) Data\n",
    "    Good and bad quality data\n",
    "\n",
    "5) TimeFrame\n",
    "    What time frame to use.\n",
    "    "
   ]
  },
  {
   "cell_type": "markdown",
   "id": "f3dea68a-5b28-46ab-9b75-472529c01e7d",
   "metadata": {
    "tags": []
   },
   "source": [
    "## Time Frame Selection"
   ]
  },
  {
   "cell_type": "code",
   "execution_count": 3,
   "id": "bf36b29a-50b6-4040-8ec4-d0466a19357b",
   "metadata": {
    "tags": []
   },
   "outputs": [
    {
     "name": "stdin",
     "output_type": "stream",
     "text": [
      "Enter the end date (YYYY-MM-DD):  1986-01-01\n",
      "Enter the time frame in years:  5\n"
     ]
    },
    {
     "name": "stdout",
     "output_type": "stream",
     "text": [
      "The calculated start date is not within the data range.\n"
     ]
    },
    {
     "name": "stdin",
     "output_type": "stream",
     "text": [
      "Enter the end date (YYYY-MM-DD):  1986-01-01\n"
     ]
    },
    {
     "name": "stdout",
     "output_type": "stream",
     "text": [
      "The calculated start date is not within the data range.\n"
     ]
    },
    {
     "name": "stdin",
     "output_type": "stream",
     "text": [
      "Enter the end date (YYYY-MM-DD):  2022-01-01\n"
     ]
    },
    {
     "name": "stdout",
     "output_type": "stream",
     "text": [
      "Start date: 2017-01-01 00:00:00\n",
      "End date: 2022-01-01 00:00:00\n",
      "CPU times: total: 1.14 s\n",
      "Wall time: 37.6 s\n"
     ]
    }
   ],
   "source": [
    "%%time\n",
    "\n",
    "import pandas as pd\n",
    "import numpy as np\n",
    "import pymannkendall as mk\n",
    "from scipy.stats import linregress\n",
    "\n",
    "# Read the CSV file into a pandas DataFrame\n",
    "data = pd.read_csv('groundwater_timeseries_data_Negative.csv')\n",
    "\n",
    "# Convert the 'date' column to datetime format\n",
    "data['date'] = pd.to_datetime(data['date'])\n",
    "\n",
    "# Function to validate date input in YYYY-MM-DD format\n",
    "def validate_date_input(date_string):\n",
    "    try:\n",
    "        return pd.to_datetime(date_string)\n",
    "    except ValueError:\n",
    "        print(\"Invalid date format. Please use YYYY-MM-DD format.\")\n",
    "        return None\n",
    "\n",
    "# Validate if a date is within the data range\n",
    "def is_date_within_range(date, data_range):\n",
    "    return data_range[0] <= date <= data_range[1]\n",
    "\n",
    "data_range = (data['date'].min(), data['date'].max())\n",
    "\n",
    "# Ask the user to input the end date\n",
    "while True:\n",
    "    end_date_input = input(\"Enter the end date (YYYY-MM-DD): \")\n",
    "    end_date = validate_date_input(end_date_input)\n",
    "    if end_date is not None and is_date_within_range(end_date, data_range):\n",
    "        break\n",
    "    elif end_date is not None:\n",
    "        print(\"Entered end date is not within the data range.\")\n",
    "\n",
    "# Ask the user to input the time frame in years\n",
    "while True:\n",
    "    try:\n",
    "        time_frame_years = int(input(\"Enter the time frame in years: \"))\n",
    "        if time_frame_years > 0:\n",
    "            break\n",
    "        else:\n",
    "            print(\"Time frame must be a positive integer.\")\n",
    "    except ValueError:\n",
    "        print(\"Invalid input. Please enter a valid integer.\")\n",
    "\n",
    "# Calculate the start date based on the end date and time frame\n",
    "start_date = end_date - pd.DateOffset(years=time_frame_years)\n",
    "\n",
    "# Validate if the start date is within the data range\n",
    "while not is_date_within_range(start_date, data_range):\n",
    "    print(\"The calculated start date is not within the data range.\")\n",
    "    end_date_input = input(\"Enter the end date (YYYY-MM-DD): \")\n",
    "    end_date = validate_date_input(end_date_input)\n",
    "    if end_date is not None:\n",
    "        start_date = end_date - pd.DateOffset(years=time_frame_years)\n",
    "\n",
    "print(\"Start date:\", start_date)\n",
    "print(\"End date:\", end_date)\n"
   ]
  },
  {
   "cell_type": "markdown",
   "id": "fc3d561d-794a-4ed8-ac91-955a59a14652",
   "metadata": {},
   "source": [
    "## CSV File creation"
   ]
  },
  {
   "cell_type": "code",
   "execution_count": 7,
   "id": "924c33b7-b4df-4efb-950f-fa5c42430b63",
   "metadata": {
    "tags": []
   },
   "outputs": [
    {
     "name": "stdout",
     "output_type": "stream",
     "text": [
      "Columns in the CSV file:\n",
      "1. date\n",
      "2. level\n",
      "3. site\n"
     ]
    },
    {
     "name": "stdin",
     "output_type": "stream",
     "text": [
      "Enter the number of the column for dates:  1\n",
      "Enter the number of the column for levels:  2\n",
      "Enter the number of the column for sites:  3\n",
      "Enter the number of the column for latitudes (enter 0 if not applicable):  0\n",
      "Enter the number of the column for longitudes (enter 0 if not applicable):  0\n",
      "Are the level values in:\n",
      "1. Meters\n",
      "2. Feet\n",
      "3. Other (provide a multiplicative factor)\n",
      "Enter the corresponding number:  2\n"
     ]
    },
    {
     "name": "stdout",
     "output_type": "stream",
     "text": [
      "Processed level values:\n",
      "0          -5.157216\n",
      "1          -4.669536\n",
      "2          -4.334256\n",
      "3          -4.690872\n",
      "4          -5.215128\n",
      "             ...    \n",
      "1459195   -62.060328\n",
      "1459196   -62.407800\n",
      "1459197   -62.423040\n",
      "1459198   -62.605920\n",
      "1459199   -63.148464\n",
      "Name: level, Length: 1459200, dtype: float64\n",
      "               date      level       site\n",
      "0        1985-01-01  -5.157216     Site_1\n",
      "1        1985-02-01  -4.669536     Site_1\n",
      "2        1985-03-01  -4.334256     Site_1\n",
      "3        1985-04-01  -4.690872     Site_1\n",
      "4        1985-05-01  -5.215128     Site_1\n",
      "...             ...        ...        ...\n",
      "1459195  2022-08-01 -62.060328  Site_3200\n",
      "1459196  2022-09-01 -62.407800  Site_3200\n",
      "1459197  2022-10-01 -62.423040  Site_3200\n",
      "1459198  2022-11-01 -62.605920  Site_3200\n",
      "1459199  2022-12-01 -63.148464  Site_3200\n",
      "\n",
      "[1459200 rows x 3 columns]\n"
     ]
    }
   ],
   "source": [
    "import pandas as pd\n",
    "\n",
    "# Load the CSV file\n",
    "csv_filename = \"groundwater_timeseries_data_Negative.csv\"  # Replace with your CSV file path\n",
    "data = pd.read_csv(csv_filename)\n",
    "\n",
    "# Display all columns for user reference\n",
    "print(\"Columns in the CSV file:\")\n",
    "for i, column in enumerate(data.columns, start=1):\n",
    "    print(f\"{i}. {column}\")\n",
    "\n",
    "# Get input from the user using column numbers\n",
    "date_column_num = int(input(\"Enter the number of the column for dates: \")) - 1\n",
    "level_column_num = int(input(\"Enter the number of the column for levels: \")) - 1\n",
    "site_column_num = int(input(\"Enter the number of the column for sites: \")) - 1\n",
    "latitude_column_num = int(input(\"Enter the number of the column for latitudes (enter 0 if not applicable): \")) - 1\n",
    "longitude_column_num = int(input(\"Enter the number of the column for longitudes (enter 0 if not applicable): \")) - 1\n",
    "\n",
    "# Extract relevant columns using the provided numbers\n",
    "selected_columns = [\n",
    "    data.columns[date_column_num],\n",
    "    data.columns[level_column_num],\n",
    "    data.columns[site_column_num]\n",
    "]\n",
    "\n",
    "if latitude_column_num >= 0 and longitude_column_num >= 0:\n",
    "    selected_columns.extend([\n",
    "        data.columns[latitude_column_num],\n",
    "        data.columns[longitude_column_num]\n",
    "    ])\n",
    "\n",
    "# Create a new DataFrame with selected columns\n",
    "processed_data = data[selected_columns]\n",
    "\n",
    "# Ask user about level unit conversion\n",
    "level_unit_conversion = None\n",
    "while level_unit_conversion not in [\"1\", \"2\", \"3\"]:\n",
    "    level_unit_conversion = input(\n",
    "        \"Are the level values in:\\n1. Meters\\n2. Feet\\n3. Other (provide a multiplicative factor)\\nEnter the corresponding number: \"\n",
    "    )\n",
    "\n",
    "# Convert level values to meters\n",
    "if level_unit_conversion == \"2\":\n",
    "    processed_data[data.columns[level_column_num]] *= 0.3048\n",
    "elif level_unit_conversion == \"3\":\n",
    "    conversion_factor = float(input(\"Enter the multiplicative factor to convert to meters: \"))\n",
    "    processed_data[data.columns[level_column_num]] *= conversion_factor\n",
    "\n",
    "# Display the processed level values\n",
    "print(\"Processed level values:\")\n",
    "print(processed_data[data.columns[level_column_num]])\n",
    "\n",
    "# Ask user about making level values negative if not already\n",
    "if (processed_data[data.columns[level_column_num]] >= 0).all():\n",
    "    make_negative = input(\"Do you want to make the level values negative to represent depth to water table? (yes/no): \")\n",
    "    if make_negative.lower() == \"yes\":\n",
    "        processed_data[data.columns[level_column_num]] *= -1\n",
    "\n",
    "# Display the final processed data\n",
    "print(processed_data)\n"
   ]
  },
  {
   "cell_type": "code",
   "execution_count": null,
   "id": "01d67b4f-df6c-43d8-9097-4363f2cf7720",
   "metadata": {},
   "outputs": [],
   "source": []
  }
 ],
 "metadata": {
  "kernelspec": {
   "display_name": "Python 3 (ipykernel)",
   "language": "python",
   "name": "python3"
  },
  "language_info": {
   "codemirror_mode": {
    "name": "ipython",
    "version": 3
   },
   "file_extension": ".py",
   "mimetype": "text/x-python",
   "name": "python",
   "nbconvert_exporter": "python",
   "pygments_lexer": "ipython3",
   "version": "3.11.4"
  }
 },
 "nbformat": 4,
 "nbformat_minor": 5
}
