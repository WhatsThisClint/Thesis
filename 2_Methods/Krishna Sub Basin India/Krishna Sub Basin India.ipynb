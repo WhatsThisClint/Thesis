{
 "cells": [
  {
   "cell_type": "code",
   "execution_count": 1,
   "id": "be8cfc98-9e74-4024-abf0-ece19ec999fe",
   "metadata": {
    "tags": []
   },
   "outputs": [
    {
     "name": "stdin",
     "output_type": "stream",
     "text": [
      "Enter a date (YYYY-MM-DD):  2022-01-01\n"
     ]
    },
    {
     "name": "stdout",
     "output_type": "stream",
     "text": [
      "Percentage of sites with positive Sen's slope: 0.00%\n",
      "Percentage of sites with increasing trend: 0.00%\n",
      "Percentage of sites with decreasing trend: 100.00%\n",
      "Percentage of sites with negative 'z' values: 100.00%\n",
      "CPU times: total: 3min 26s\n",
      "Wall time: 3min 30s\n"
     ]
    }
   ],
   "source": [
    "%%time\n",
    "\n",
    "import pandas as pd\n",
    "from datetime import datetime, timedelta\n",
    "import numpy as np\n",
    "import pymannkendall as mk\n",
    "\n",
    "# Read the CSV file\n",
    "file_path = 'groundwater_timeseries_data_Negative.csv'\n",
    "df = pd.read_csv(file_path)\n",
    "\n",
    "df['date'] = pd.to_datetime(df['date'])\n",
    "\n",
    "# Get user input for date\n",
    "while True:\n",
    "    try:\n",
    "        user_date = input(\"Enter a date (YYYY-MM-DD): \")\n",
    "        user_date = datetime.strptime(user_date, \"%Y-%m-%d\")\n",
    "        break\n",
    "    except ValueError:\n",
    "        print(\"Invalid date format. Please use YYYY-MM-DD format.\")\n",
    "\n",
    "# Calculate the start date (32 years prior to the target date)\n",
    "start_date = user_date - pd.DateOffset(years=32)\n",
    "\n",
    "# Check if the required years of data are available\n",
    "if start_date.year < df['date'].dt.year.min() or user_date.year > df['date'].dt.year.max():\n",
    "    print(f\"Data is not available for 32 years prior to the selected date.\")\n",
    "else:\n",
    "    # Create a new DataFrame with filtered data\n",
    "    filtered_df = df[(df['date'] >= start_date) & (df['date'] <= user_date)]\n",
    "    \n",
    "    # Create empty lists to store the results\n",
    "    mk_results = []\n",
    "    sens_slope_results = []\n",
    "    \n",
    "    # Perform Mann-Kendall test and Sen's slope for each site\n",
    "    for site in filtered_df['site'].unique():\n",
    "        site_data = filtered_df[filtered_df['site'] == site]\n",
    "        \n",
    "        # Mann-Kendall test\n",
    "        mk_result = mk.original_test(site_data['level'])\n",
    "        mk_results.append([site, mk_result.slope, mk_result.intercept, mk_result.trend, mk_result.h, mk_result.p, mk_result.z, mk_result.Tau, mk_result.s])\n",
    "        \n",
    "        # Sen's slope\n",
    "        sens_slope_result = mk.sens_slope(site_data['level'])\n",
    "        sens_slope_results.append([site, sens_slope_result])\n",
    "    \n",
    "    # Create DataFrames from the results\n",
    "    mk_results_df = pd.DataFrame(mk_results, columns=['site', 'slope', 'intercept', 'trend', 'h', 'p', 'z', 'Tau', 's'])\n",
    "    sens_slope_results_df = pd.DataFrame(sens_slope_results, columns=['site', 'sens_slope'])\n",
    "    \n",
    "    # Splitting \"sens_slope\" column into \"slope\" and \"intercept\" columns\n",
    "    sens_slope_results_df[['slope', 'intercept']] = sens_slope_results_df['sens_slope'].apply(pd.Series)\n",
    "    sens_slope_results_df.drop(columns=['sens_slope'], inplace=True)\n",
    "             \n",
    "    # Save Sen's slope results to CSV and Excel files\n",
    "    sens_slope_results_df.to_csv('sens_slope_results.csv', index=False)\n",
    "    sens_slope_results_df.to_excel('sens_slope_results.xlsx', index=False)\n",
    "    \n",
    "    # Save Mann-Kendall results to CSV and Excel files\n",
    "    mk_results_df.to_csv('mann_kendall_results.csv', index=False)\n",
    "    mk_results_df.to_excel('mann_kendall_results.xlsx', index=False)\n",
    "    \n",
    "    # Calculate percentages\n",
    "    positive_slope_percentage = (sens_slope_results_df['slope'] > 0).mean() * 100\n",
    "    increasing_trend_percentage = (mk_results_df['trend'] == 'increasing').mean() * 100\n",
    "    decreasing_trend_percentage = (mk_results_df['trend'] == 'decreasing').mean() * 100\n",
    "    negative_z_percentage = (mk_results_df['z'] < 0).mean() * 100\n",
    "    \n",
    "    # Print results\n",
    "    print(f\"Percentage of sites with positive Sen's slope: {positive_slope_percentage:.2f}%\")\n",
    "    print(f\"Percentage of sites with increasing trend: {increasing_trend_percentage:.2f}%\")\n",
    "    print(f\"Percentage of sites with decreasing trend: {decreasing_trend_percentage:.2f}%\")\n",
    "    print(f\"Percentage of sites with negative 'z' values: {negative_z_percentage:.2f}%\")\n"
   ]
  },
  {
   "cell_type": "code",
   "execution_count": null,
   "id": "9d45681b-ae22-4724-9def-e5589e613ad8",
   "metadata": {},
   "outputs": [],
   "source": []
  }
 ],
 "metadata": {
  "kernelspec": {
   "display_name": "Python 3 (ipykernel)",
   "language": "python",
   "name": "python3"
  },
  "language_info": {
   "codemirror_mode": {
    "name": "ipython",
    "version": 3
   },
   "file_extension": ".py",
   "mimetype": "text/x-python",
   "name": "python",
   "nbconvert_exporter": "python",
   "pygments_lexer": "ipython3",
   "version": "3.11.4"
  }
 },
 "nbformat": 4,
 "nbformat_minor": 5
}
