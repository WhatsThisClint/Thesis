{
 "cells": [
  {
   "cell_type": "code",
   "execution_count": 1,
   "id": "badcd782-2f30-4041-9f29-86aa319d0f43",
   "metadata": {
    "tags": []
   },
   "outputs": [
    {
     "name": "stdout",
     "output_type": "stream",
     "text": [
      "Results saved to mann_kendall_results.csv\n"
     ]
    }
   ],
   "source": [
    "import pandas as pd\n",
    "from datetime import datetime, timedelta\n",
    "import numpy as np\n",
    "import pymannkendall as mk\n",
    "\n",
    "# Read the input CSV file\n",
    "input_file = \"groundwater_timeseries_data_Negative.csv\"\n",
    "data = pd.read_csv(input_file)\n",
    "\n",
    "# Group data by site and compute Mann-Kendall test for each site\n",
    "results = []\n",
    "for site, site_data in data.groupby(\"site\"):\n",
    "    trend_result = mk.original_test(site_data[\"level\"])\n",
    "    results.append({\n",
    "        \"site\": site,\n",
    "        \"trend\": trend_result.trend,\n",
    "        \"h\": trend_result.h,\n",
    "        \"p\": trend_result.p,\n",
    "        \"z\": trend_result.z,\n",
    "        \"Tau\": trend_result.Tau,\n",
    "        \"s\": trend_result.s,\n",
    "        \"var_s\": trend_result.var_s,\n",
    "        \"slope\": trend_result.slope,\n",
    "        \"intercept\": trend_result.intercept\n",
    "    })\n",
    "\n",
    "# Create a new DataFrame with results\n",
    "results_df = pd.DataFrame(results)\n",
    "\n",
    "# Write the results to a new CSV file\n",
    "output_file = \"mann_kendall_results.csv\"\n",
    "results_df.to_csv(output_file, index=False)\n",
    "\n",
    "print(f\"Results saved to {output_file}\")"
   ]
  },
  {
   "cell_type": "code",
   "execution_count": null,
   "id": "363209a5-b4b4-412a-b101-55261a05e52b",
   "metadata": {},
   "outputs": [],
   "source": []
  }
 ],
 "metadata": {
  "kernelspec": {
   "display_name": "Python 3 (ipykernel)",
   "language": "python",
   "name": "python3"
  },
  "language_info": {
   "codemirror_mode": {
    "name": "ipython",
    "version": 3
   },
   "file_extension": ".py",
   "mimetype": "text/x-python",
   "name": "python",
   "nbconvert_exporter": "python",
   "pygments_lexer": "ipython3",
   "version": "3.11.4"
  }
 },
 "nbformat": 4,
 "nbformat_minor": 5
}
