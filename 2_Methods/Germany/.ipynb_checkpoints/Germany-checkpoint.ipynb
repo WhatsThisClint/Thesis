{
 "cells": [
  {
   "cell_type": "markdown",
   "id": "9fff5e9f-da1c-4c0b-8be2-8a6b57841121",
   "metadata": {},
   "source": [
    "# Germany "
   ]
  },
  {
   "cell_type": "code",
   "execution_count": null,
   "id": "e822b7fd-368a-45e9-90fc-50389195fb19",
   "metadata": {
    "tags": []
   },
   "outputs": [
    {
     "name": "stdin",
     "output_type": "stream",
     "text": [
      "Please enter a date (YYYY-MM): 2019-01-01\n"
     ]
    }
   ],
   "source": [
    "%%time \n",
    "\n",
    "import pandas as pd\n",
    "import numpy as np\n",
    "from scipy.stats import linregress\n",
    "\n",
    "# Load the CSV data\n",
    "data = pd.read_csv('groundwater_timeseries_data_Negative.csv')\n",
    "# Convert the 'date' column to datetime\n",
    "data['date'] = pd.to_datetime(data['date'])\n",
    "\n",
    "# Ask the user to select a date\n",
    "selected_date = pd.to_datetime(input(\"Please enter a date (YYYY-MM):\"))\n",
    "\n",
    "# Calculate earliest and latest dates in the dataset\n",
    "earliest_date = pd.to_datetime(data['date'].min())\n",
    "latest_date = pd.to_datetime(data['date'].max())\n",
    "\n",
    "# Check if there is data 30 years prior to the selected date\n",
    "start_date_30_years = selected_date - pd.DateOffset(years=30)\n",
    "\n",
    "if start_date_30_years >= earliest_date:\n",
    "    start_date = start_date_30_years\n",
    "else:\n",
    "    start_date = selected_date - pd.DateOffset(years=15)\n",
    "\n",
    "# Check if there is enough data for the selected time period\n",
    "if start_date < earliest_date:\n",
    "    print(\"Not enough data available.\")\n",
    "    exit()\n",
    "\n",
    "# Convert start_date to a Timestamp object\n",
    "start_date = pd.Timestamp(start_date)\n",
    "\n",
    "# Filter data for the selected time period\n",
    "filtered_data = data[(data['date'] >= start_date) & (data['date'] <= selected_date)]\n",
    "\n",
    "# Calculate min and max levels for each site\n",
    "agg_funcs = {'level': ['min', 'max']}\n",
    "min_max_levels = filtered_data.groupby('site').agg(agg_funcs).reset_index()\n",
    "\n",
    "# Perform linear regression for each site\n",
    "regression_results = []\n",
    "for site in min_max_levels['site']:\n",
    "    site_data = filtered_data[filtered_data['site'] == site]\n",
    "    x = np.arange(len(site_data))\n",
    "    y = site_data['level']\n",
    "    slope, intercept, r_value, p_value, std_err = linregress(x, y)\n",
    "    min_level = min(y)\n",
    "    max_level = max(y)\n",
    "    level_difference = max_level - min_level\n",
    "    num_years = (selected_date.year - start_date.year) + 1  # Counting inclusive years\n",
    "    slope_per_year = ((slope * 100) / num_years) # Convert slope to cm and divide by years\n",
    "    \n",
    "    # Determine status based on slope_per_year\n",
    "    if slope_per_year < -2:\n",
    "        status = 'falling sharply'\n",
    "    elif -2 <= slope_per_year < -1:\n",
    "        status = 'falling'\n",
    "    elif -1 <= slope_per_year <= 1:\n",
    "        status = 'consistent'\n",
    "    elif 1 < slope_per_year <= 2:\n",
    "        status = 'rising'\n",
    "    else:\n",
    "        status = 'strongly increasing'\n",
    "    \n",
    "    regression_results.append({'site': site, 'min_level': min_level, 'max_level': max_level, 'level_difference': level_difference, 'slope': slope, 'slope_per_year': slope_per_year, 'num_years': num_years, 'status': status})\n",
    "\n",
    "# Create a DataFrame for regression results\n",
    "regression_df = pd.DataFrame(regression_results)\n",
    "\n",
    "# Save the DataFrame as Excel and CSV files\n",
    "regression_df.to_excel('regression_results.xlsx', index=False)\n",
    "regression_df.to_csv('regression_results.csv', index=False)\n",
    "\n",
    "# Display the results\n",
    "print(\"Selected Date:\", selected_date)\n",
    "print(\"Start Date:\", start_date)\n",
    "print(\"End Date:\", selected_date)\n",
    "print(\"\\nRegression Results:\")\n",
    "print(regression_df)\n"
   ]
  },
  {
   "cell_type": "markdown",
   "id": "cdffb8d4-d22f-4440-90bc-3eb948b52065",
   "metadata": {},
   "source": [
    " "
   ]
  }
 ],
 "metadata": {
  "kernelspec": {
   "display_name": "Python 3 (ipykernel)",
   "language": "python",
   "name": "python3"
  },
  "language_info": {
   "codemirror_mode": {
    "name": "ipython",
    "version": 3
   },
   "file_extension": ".py",
   "mimetype": "text/x-python",
   "name": "python",
   "nbconvert_exporter": "python",
   "pygments_lexer": "ipython3",
   "version": "3.11.4"
  }
 },
 "nbformat": 4,
 "nbformat_minor": 5
}
