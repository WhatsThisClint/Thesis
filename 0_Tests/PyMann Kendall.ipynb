{
 "cells": [
  {
   "cell_type": "code",
   "execution_count": null,
   "id": "c708fffd-54fa-4866-946e-9b1d9efbe447",
   "metadata": {},
   "outputs": [],
   "source": []
  },
  {
   "cell_type": "markdown",
   "id": "ee6b52d4-94bd-432c-bd6b-003ce7848957",
   "metadata": {},
   "source": [
    "# The command for each of the tests. "
   ]
  },
  {
   "cell_type": "markdown",
   "id": "393f13e4-efca-4f58-9d68-220d61a8047c",
   "metadata": {},
   "source": [
    "## Original Mann-Kendall test (original_test): \n",
    "The original Mann-Kendall test is a nonparametric test, which does not consider serial correlation or seasonal effects.\n",
    "\n",
    "## Hamed and Rao Modified MK Test (hamed_rao_modification_test): \n",
    "This modified MK test was proposed by Hamed and Rao (1998) to address serial autocorrelation issues. They suggested a variance correction approach to improve trend analysis. Users can consider the first n significant lag by inserting the lag number in this function. By default, it considered all significant lags.\n",
    "\n",
    "##  Yue and Wang Modified MK Test (yue_wang_modification_test): \n",
    "This is also a variance correction method for considered serial autocorrelation proposed by Yue, S., & Wang, C. Y. (2004). Users can also set their desired significant n lags for the calculation.\n",
    "\n",
    "## Modified MK test using Pre-Whitening method (pre_whitening_modification_test): \n",
    "This test was suggested by Yue and Wang (2002) to use Pre-Whitening the time series before the application of the trend test.\n",
    "\n",
    "## Modified MK test using Trend free Pre-Whitening method (trend_free_pre_whitening_modification_test): \n",
    "This test was also proposed by Yue and Wang (2002) to remove the trend component and then Pre-Whitening the time series before the application of the trend test.\n",
    "\n",
    "## Multivariate MK Test (multivariate_test): \n",
    "This is an MK test for multiple parameters proposed by Hirsch (1982). He used this method for the seasonal mk test, where he considered every month as a parameter.\n",
    "\n",
    "## Seasonal MK Test (seasonal_test): \n",
    "For seasonal time series data, Hirsch, R.M., Slack, J.R. and Smith, R.A. (1982) proposed this test to calculate the seasonal trend.\n",
    "\n",
    "## Regional MK Test (regional_test): \n",
    "Based onHirsch (1982) proposed seasonal mk test, Helsel, D.R. and Frans, L.M., (2006) suggest regional mk test to calculate the overall trend in a regional scale.\n",
    "\n",
    "## Correlated Multivariate MK Test (correlated_multivariate_test): \n",
    "This multivariate mk test proposed by Hipel (1994) where the parameters are correlated.\n",
    "\n",
    "## Correlated Seasonal MK Test (correlated_seasonal_test): \n",
    "This method proposed by Hipel (1994) used, when time series significantly correlated with the preceding one or more months/seasons.\n",
    "\n",
    "## Partial MK Test (partial_test): \n",
    "In a real event, many factors are affecting the main studied response parameter, which can bias the trend results. To overcome this problem, Libiseller (2002) proposed this partial mk test. It required two parameters as input, where, one is response parameter and other is an independent parameter.\n",
    "\n",
    "## Theil-Sen's Slope Estimator (sens_slope): \n",
    "This method proposed by Theil (1950) and Sen (1968) to estimate the magnitude of the monotonic trend. Intercept is calculate using Conover, W.J. (1980) method.\n",
    "\n",
    "## Seasonal Theil-Sen's Slope Estimator (seasonal_sens_slope): \n",
    "This method proposed by Hipel (1994) to estimate the magnitude of the monotonic trend, when data has seasonal effects. Intercept is calculate using Conover, W.J. (1980) method.\n"
   ]
  },
  {
   "cell_type": "markdown",
   "id": "f66f15ba-b756-4e50-bd06-aa02233c51b2",
   "metadata": {},
   "source": [
    "# Function details:"
   ]
  },
  {
   "cell_type": "markdown",
   "id": "60648253-cbb9-46a9-b728-42511642642f",
   "metadata": {},
   "source": [
    "All Mann-Kendall test functions have almost similar input parameters. Those are:\n",
    "\n",
    "x: a vector (list, numpy array or pandas series) data\n",
    "alpha: significance level (0.05 is the default)\n",
    "lag: No. of First Significant Lags (Only available in hamed_rao_modification_test and yue_wang_modification_test)\n",
    "period: seasonal cycle. For monthly data it is 12, weekly data it is 52 (Only available in seasonal tests)\n",
    "And all Mann-Kendall tests return a named tuple which contained:\n",
    "\n",
    "trend: tells the trend (increasing, decreasing or no trend)\n",
    "h: True (if trend is present) or False (if the trend is absence)\n",
    "p: p-value of the significance test\n",
    "z: normalized test statistics\n",
    "Tau: Kendall Tau\n",
    "s: Mann-Kendal's score\n",
    "var_s: Variance S\n",
    "slope: Theil-Sen estimator/slope\n",
    "intercept: intercept of Kendall-Theil Robust Line, for seasonal test, full period cycle consider as unit time step\n",
    "sen's slope function required data vector. seasonal sen's slope also has optional input period, which by the default value is 12. Both sen's slope function return only slope value."
   ]
  },
  {
   "cell_type": "markdown",
   "id": "a6d942d2-27b1-45c8-afbd-5da30910e4c4",
   "metadata": {},
   "source": [
    "# Examples"
   ]
  },
  {
   "cell_type": "code",
   "execution_count": 22,
   "id": "2d5fae5c-d79b-4123-a71e-e22b00c2e3f6",
   "metadata": {},
   "outputs": [],
   "source": [
    "Birth_data = pd.read_csv(\"SingleSite.csv\",parse_dates=['date'],index_col='date')"
   ]
  },
  {
   "cell_type": "code",
   "execution_count": 24,
   "id": "c962364d-dec0-4a9c-b1bf-b4258ae96b69",
   "metadata": {
    "tags": []
   },
   "outputs": [
    {
     "data": {
      "text/plain": [
       "Mann_Kendall_Test(trend='no trend', h=False, p=0.5695445063207971, z=-0.5687224553601843, Tau=-0.017833044148833622, s=-1850.0, var_s=10569953.333333334, slope=-0.0003893404861111054, intercept=-28.119527949409726)"
      ]
     },
     "execution_count": 24,
     "metadata": {},
     "output_type": "execute_result"
    }
   ],
   "source": [
    "mk.original_test(Birth_data, alpha=0.1)"
   ]
  },
  {
   "cell_type": "code",
   "execution_count": 21,
   "id": "12030102-fb40-43f8-a285-58d2dfe4c0c7",
   "metadata": {
    "tags": []
   },
   "outputs": [],
   "source": [
    "import pandas as pd\n",
    "\n",
    "# Read the CSV file\n",
    "df = pd.read_csv('SingleSite.csv')\n",
    "\n",
    "# Drop the \"site\" column\n",
    "df = df.drop(columns=['site'])\n",
    "\n",
    "# Save the updated DataFrame back to the CSV file\n",
    "df.to_csv('SingleSite.csv', index=False)\n"
   ]
  },
  {
   "cell_type": "code",
   "execution_count": null,
   "id": "a65d42ff-00a0-4395-9c7f-ac17bdbabe32",
   "metadata": {},
   "outputs": [],
   "source": []
  }
 ],
 "metadata": {
  "kernelspec": {
   "display_name": "Python 3 (ipykernel)",
   "language": "python",
   "name": "python3"
  },
  "language_info": {
   "codemirror_mode": {
    "name": "ipython",
    "version": 3
   },
   "file_extension": ".py",
   "mimetype": "text/x-python",
   "name": "python",
   "nbconvert_exporter": "python",
   "pygments_lexer": "ipython3",
   "version": "3.11.4"
  }
 },
 "nbformat": 4,
 "nbformat_minor": 5
}
