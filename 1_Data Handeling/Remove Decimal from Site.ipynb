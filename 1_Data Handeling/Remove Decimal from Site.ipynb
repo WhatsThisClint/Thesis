{
 "cells": [
  {
   "cell_type": "markdown",
   "id": "eb8de038-1057-4aaa-89a1-726ec368cfb3",
   "metadata": {},
   "source": [
    "# Remove Decimal from Site"
   ]
  },
  {
   "cell_type": "code",
   "execution_count": 1,
   "id": "8515d804-df4f-4d7d-a249-6981336b029c",
   "metadata": {
    "tags": []
   },
   "outputs": [],
   "source": [
    "import pandas as pd\n",
    "\n",
    "def remove_decimal_from_site_column(csv_file_path):\n",
    "    # Read the CSV file into a pandas DataFrame\n",
    "    df = pd.read_csv(csv_file_path)\n",
    "\n",
    "    # Check for decimal values in the \"site\" column\n",
    "    df['site'] = df['site'].astype(str).str.replace(r'\\.\\d+', '', regex=True)\n",
    "\n",
    "    # Save the updated DataFrame back to a new CSV file\n",
    "    df.to_csv('updated_' + csv_file_path, index=False)\n",
    "\n",
    "# Replace 'your_file.csv' with the path to your CSV file\n",
    "remove_decimal_from_site_column('WL_M6.csv')\n"
   ]
  }
 ],
 "metadata": {
  "kernelspec": {
   "display_name": "Python 3 (ipykernel)",
   "language": "python",
   "name": "python3"
  },
  "language_info": {
   "codemirror_mode": {
    "name": "ipython",
    "version": 3
   },
   "file_extension": ".py",
   "mimetype": "text/x-python",
   "name": "python",
   "nbconvert_exporter": "python",
   "pygments_lexer": "ipython3",
   "version": "3.11.4"
  }
 },
 "nbformat": 4,
 "nbformat_minor": 5
}
