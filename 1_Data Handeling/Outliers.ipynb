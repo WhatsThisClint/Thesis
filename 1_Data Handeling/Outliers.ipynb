{
 "cells": [
  {
   "cell_type": "code",
   "execution_count": null,
   "id": "55c6199c-7d8a-4997-bb24-81890ad92f8d",
   "metadata": {},
   "outputs": [],
   "source": [
    "import pandas as pd\n",
    "\n",
    "def remove_outliers(input_file, output_file, column_name, lower_threshold, upper_threshold):\n",
    "    # Read the CSV file into a DataFrame\n",
    "    df = pd.read_csv(input_file)\n",
    "\n",
    "    # Identify outliers using the specified column and thresholds\n",
    "    outliers = (df[column_name] < lower_threshold) | (df[column_name] > upper_threshold)\n",
    "\n",
    "    # Filter out the outliers and create a new DataFrame without them\n",
    "    df_no_outliers = df[~outliers]\n",
    "\n",
    "    # Save the DataFrame without outliers to a new CSV file\n",
    "    df_no_outliers.to_csv(output_file, index=False)\n",
    "\n",
    "# Example usage\n",
    "input_file = 'input.csv'    # Replace with your input CSV file path\n",
    "output_file = 'output.csv'  # Replace with the desired output CSV file path\n",
    "column_name = 'ColumnName'  # Replace 'ColumnName' with the name of the column containing outliers\n",
    "lower_threshold = 10  # Replace with the lower threshold value\n",
    "upper_threshold = 100  # Replace with the upper threshold value\n",
    "\n",
    "remove_outliers(input_file, output_file, column_name, lower_threshold, upper_threshold)\n"
   ]
  },
  {
   "cell_type": "code",
   "execution_count": null,
   "id": "3aa515ec-9fcc-4bbe-ae50-ad5e75f6e29d",
   "metadata": {},
   "outputs": [],
   "source": []
  }
 ],
 "metadata": {
  "kernelspec": {
   "display_name": "Python 3 (ipykernel)",
   "language": "python",
   "name": "python3"
  },
  "language_info": {
   "codemirror_mode": {
    "name": "ipython",
    "version": 3
   },
   "file_extension": ".py",
   "mimetype": "text/x-python",
   "name": "python",
   "nbconvert_exporter": "python",
   "pygments_lexer": "ipython3",
   "version": "3.11.4"
  }
 },
 "nbformat": 4,
 "nbformat_minor": 5
}
