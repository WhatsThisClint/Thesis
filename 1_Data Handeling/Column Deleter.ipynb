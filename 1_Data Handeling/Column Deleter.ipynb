{
 "cells": [
  {
   "cell_type": "markdown",
   "id": "01a0a1cc-483d-4f23-9d70-6a3ea9f5b7cb",
   "metadata": {},
   "source": [
    "# Column Deleter"
   ]
  },
  {
   "cell_type": "code",
   "execution_count": 2,
   "id": "9b16e4db-c4e3-44d8-9eda-7681fa13634b",
   "metadata": {
    "tags": []
   },
   "outputs": [],
   "source": [
    "import pandas as pd\n",
    "\n",
    "# Load the CSV file into a DataFrame\n",
    "df = pd.read_csv('WL_M2.csv', low_memory=False)\n",
    "\n",
    "# Drop the \"Time\" column\n",
    "df = df.drop(columns=['Time'])\n",
    "\n",
    "# Save the DataFrame back to a new CSV file\n",
    "df.to_csv('data_without_time.csv', index=False)\n"
   ]
  },
  {
   "cell_type": "code",
   "execution_count": null,
   "id": "f4177b9c-2e16-433b-881f-2a697388f0d2",
   "metadata": {},
   "outputs": [],
   "source": []
  }
 ],
 "metadata": {
  "kernelspec": {
   "display_name": "Python 3 (ipykernel)",
   "language": "python",
   "name": "python3"
  },
  "language_info": {
   "codemirror_mode": {
    "name": "ipython",
    "version": 3
   },
   "file_extension": ".py",
   "mimetype": "text/x-python",
   "name": "python",
   "nbconvert_exporter": "python",
   "pygments_lexer": "ipython3",
   "version": "3.11.4"
  }
 },
 "nbformat": 4,
 "nbformat_minor": 5
}
