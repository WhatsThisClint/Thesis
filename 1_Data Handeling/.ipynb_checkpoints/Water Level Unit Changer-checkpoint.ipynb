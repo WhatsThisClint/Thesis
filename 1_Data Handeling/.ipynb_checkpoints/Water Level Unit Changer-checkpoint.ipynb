{
 "cells": [
  {
   "cell_type": "markdown",
   "id": "8b83a086-afca-4478-9c88-998a77618f08",
   "metadata": {},
   "source": [
    "# Water Level Unit Changer"
   ]
  },
  {
   "cell_type": "code",
   "execution_count": null,
   "id": "2afc8c4b-43f9-4ae0-a348-6480af2dae72",
   "metadata": {
    "tags": []
   },
   "outputs": [],
   "source": [
    "import pandas as pd\n",
    "\n",
    "# Load your data into a pandas DataFrame, replace 'your_file.csv' with the actual file name\n",
    "df = pd.read_csv('WL_M3.csv', low_memory=False)\n",
    "\n",
    "# Assuming 'Water Level ft' is the column you want to convert\n",
    "df['Water Level m'] = df['Water Level ft'] * 0.3048*-1\n",
    "\n",
    "# Drop the 'Water Level ft' column if you don't need it anymore\n",
    "df.drop(columns=['Water Level ft'], inplace=True)\n",
    "\n",
    "# Save the DataFrame back to a new CSV file, replace 'output_file.csv' with the desired output file name\n",
    "df.to_csv('output_file.csv', index=False, float_format='%.1f')\n"
   ]
  }
 ],
 "metadata": {
  "kernelspec": {
   "display_name": "Python 3 (ipykernel)",
   "language": "python",
   "name": "python3"
  },
  "language_info": {
   "codemirror_mode": {
    "name": "ipython",
    "version": 3
   },
   "file_extension": ".py",
   "mimetype": "text/x-python",
   "name": "python",
   "nbconvert_exporter": "python",
   "pygments_lexer": "ipython3",
   "version": "3.11.4"
  }
 },
 "nbformat": 4,
 "nbformat_minor": 5
}
