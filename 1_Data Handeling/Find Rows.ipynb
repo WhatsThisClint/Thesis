{
 "cells": [
  {
   "cell_type": "code",
   "execution_count": 1,
   "id": "998a47bd-9fd7-4bfa-9203-a4bf95aff025",
   "metadata": {},
   "outputs": [
    {
     "name": "stdout",
     "output_type": "stream",
     "text": [
      "The CSV file 'Water Lvl Master - Copy.csv' has 626653 rows.\n"
     ]
    }
   ],
   "source": [
    "import csv\n",
    "\n",
    "def count_csv_rows(filename):\n",
    "    with open(filename, 'r', newline='') as file:\n",
    "        reader = csv.reader(file)\n",
    "        row_count = sum(1 for row in reader)\n",
    "    return row_count\n",
    "\n",
    "# Example usage\n",
    "filename = 'Water Lvl Master - Copy.csv'  # Replace with your CSV file path\n",
    "row_count = count_csv_rows(filename)\n",
    "print(f\"The CSV file '{filename}' has {row_count} rows.\")\n"
   ]
  },
  {
   "cell_type": "code",
   "execution_count": 2,
   "id": "87ac28d6-1ef5-4552-b3b4-2082fef28c5f",
   "metadata": {},
   "outputs": [
    {
     "name": "stdout",
     "output_type": "stream",
     "text": [
      "The CSV file 'Water Lvl Master.csv' has 626653 rows.\n"
     ]
    }
   ],
   "source": [
    "import csv\n",
    "\n",
    "def count_csv_rows(filename):\n",
    "    with open(filename, 'r', newline='') as file:\n",
    "        reader = csv.reader(file)\n",
    "        row_count = sum(1 for row in reader)\n",
    "    return row_count\n",
    "\n",
    "# Example usage\n",
    "filename = 'Water Lvl Master.csv'  # Replace with your CSV file path\n",
    "row_count = count_csv_rows(filename)\n",
    "print(f\"The CSV file '{filename}' has {row_count} rows.\")\n"
   ]
  },
  {
   "cell_type": "code",
   "execution_count": null,
   "id": "92cf6d99-c21d-4495-98a3-df6e8cd5bd1c",
   "metadata": {},
   "outputs": [],
   "source": []
  }
 ],
 "metadata": {
  "kernelspec": {
   "display_name": "Python 3 (ipykernel)",
   "language": "python",
   "name": "python3"
  },
  "language_info": {
   "codemirror_mode": {
    "name": "ipython",
    "version": 3
   },
   "file_extension": ".py",
   "mimetype": "text/x-python",
   "name": "python",
   "nbconvert_exporter": "python",
   "pygments_lexer": "ipython3",
   "version": "3.11.4"
  }
 },
 "nbformat": 4,
 "nbformat_minor": 5
}
