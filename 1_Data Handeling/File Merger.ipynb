{
 "cells": [
  {
   "cell_type": "markdown",
   "id": "11bbe510-c84d-4f7e-b6c6-24ab530a3b72",
   "metadata": {},
   "source": [
    "# Find Delimitters and make them a common delimtter "
   ]
  },
  {
   "cell_type": "code",
   "execution_count": null,
   "id": "f2948a07-d501-415e-982a-2348a5c22c8a",
   "metadata": {
    "tags": []
   },
   "outputs": [],
   "source": [
    "import os\n",
    "import pandas as pd\n",
    "\n",
    "\n",
    "def identify_delimiter(file_path: str) -> str:\n",
    "\n",
    "#     Identify the delimiter used in the first line of a CSV file.\n",
    "#     Args:\n",
    "#         file_path (str): The path of the CSV file.\n",
    "#     Returns:\n",
    "#         str: The detected delimiter (',' for comma, '\\t' for tab, or ';' for default).\n",
    "\n",
    "    with open(file_path, 'r') as f:\n",
    "        first_line = f.readline()\n",
    "        if ',' in first_line:\n",
    "            return ','\n",
    "        elif '\\t' in first_line:\n",
    "            return '\\t'\n",
    "        else:\n",
    "            # If no common delimiter is found, assume semicolon as the default\n",
    "            return ';'\n",
    "\n",
    "\n",
    "def change_delimiter(input_file: str, output_file: str, delimiter: str) -> None:\n",
    "\n",
    "#     Read a CSV file with a given delimiter and save it with a different delimiter.\n",
    "#     Args:\n",
    "#         input_file (str): The path of the input CSV file.\n",
    "#         output_file (str): The path of the output CSV file.\n",
    "#         delimiter (str): The delimiter used in the input file.\n",
    "\n",
    "    df = pd.read_csv(input_file, delimiter=delimiter)\n",
    "    df.to_csv(output_file, index=False, sep=';')\n",
    "\n",
    "\n",
    "def process_csv_files() -> None:\n",
    "\n",
    "    # Process all CSV files in the current working directory.\n",
    "    # For each file, identify the delimiter, and save the modified CSV file.\n",
    "\n",
    "    root_folder = os.getcwd()  # Get the current working directory as the root folder\n",
    "\n",
    "    for file in os.listdir(root_folder):\n",
    "        if file.endswith('.csv'):\n",
    "            input_file_path = os.path.join(root_folder, file)\n",
    "            output_file_path = os.path.join(root_folder, f\"m_{file}\")\n",
    "\n",
    "            delimiter = identify_delimiter(input_file_path)\n",
    "            change_delimiter(input_file_path, output_file_path, delimiter)\n",
    "\n",
    "\n",
    "if __name__ == \"__main__\":\n",
    "    process_csv_files()\n"
   ]
  },
  {
   "cell_type": "markdown",
   "id": "573ef140-2f4e-4437-86ed-3033c489edd0",
   "metadata": {},
   "source": [
    "# Merge Files"
   ]
  },
  {
   "cell_type": "code",
   "execution_count": null,
   "id": "5dafb479-298c-4b2a-ad7d-4c7f2f130d5c",
   "metadata": {},
   "outputs": [],
   "source": [
    "import os\n",
    "import pandas as pd\n",
    "\n",
    "def identify_delimiter(file_path: str) -> str:\n",
    "    with open(file_path, 'r') as f:\n",
    "        first_line = f.readline()\n",
    "        if ',' in first_line:\n",
    "            return ','\n",
    "        elif '\\t' in first_line:\n",
    "            return '\\t'\n",
    "        else:\n",
    "            # If no common delimiter is found, assume semicolon as the default\n",
    "            return ';'\n",
    "\n",
    "def process_csv_files():\n",
    "    # This function reads all CSV files in the current working directory and appends their contents to a master DataFrame.\n",
    "    # The resulting DataFrame is then saved to a new CSV file named 'Master High Plains.csv'.\n",
    "\n",
    "    files_to_merge = []\n",
    "\n",
    "    for file in os.listdir(os.getcwd()):\n",
    "        if file.endswith('.csv'):\n",
    "            input_file_path = os.path.join(os.getcwd(), file)\n",
    "            delimiter = identify_delimiter(input_file_path)\n",
    "            files_to_merge.append(pd.read_csv(input_file_path, delimiter=delimiter))\n",
    "\n",
    "    master_df = pd.concat(files_to_merge, ignore_index=True)\n",
    "\n",
    "    master_df.to_csv('Master High Plains.csv', index=False)\n",
    "\n",
    "process_csv_files()\n"
   ]
  },
  {
   "cell_type": "markdown",
   "id": "dfbfa524-3c53-4b68-9f6d-410c7405b011",
   "metadata": {},
   "source": [
    "# Merge the Location and Water Level File "
   ]
  },
  {
   "cell_type": "markdown",
   "id": "375a7622-567d-4a35-930a-7617b8cf9a73",
   "metadata": {},
   "source": [
    "Change the delimiter from ; to ,"
   ]
  },
  {
   "cell_type": "code",
   "execution_count": 11,
   "id": "ef62ef22-f9c3-4c0f-addc-f2e5d051f029",
   "metadata": {
    "tags": []
   },
   "outputs": [
    {
     "name": "stdout",
     "output_type": "stream",
     "text": [
      "Delimiter changed successfully!\n"
     ]
    }
   ],
   "source": [
    "import csv\n",
    "\n",
    "def change_delimiter(input_file, output_file, input_delimiter=';', output_delimiter=','):\n",
    "    with open(input_file, 'r') as file_in, open(output_file, 'w', newline='') as file_out:\n",
    "        reader = csv.reader(file_in, delimiter=input_delimiter)\n",
    "        writer = csv.writer(file_out, delimiter=output_delimiter)\n",
    "        for row in reader:\n",
    "            writer.writerow(row)\n",
    "\n",
    "# Example usage\n",
    "input_file = 'Water Level Master.csv'\n",
    "output_file = 'Water Level Master_D.csv'\n",
    "change_delimiter(input_file, output_file, ';', ',')\n",
    "\n",
    "print(\"Delimiter changed successfully!\")"
   ]
  },
  {
   "cell_type": "markdown",
   "id": "f7b8fc98-38f6-4c5c-aea0-0d3295c35740",
   "metadata": {},
   "source": [
    "Rename the first column so they are the same "
   ]
  },
  {
   "cell_type": "code",
   "execution_count": null,
   "id": "506bb585-82ea-4c2b-ac1e-56a314b4bb9f",
   "metadata": {},
   "outputs": [],
   "source": [
    "import pandas as pd\n",
    "\n",
    "# Replace 'your_file.csv' with the actual filename\n",
    "file_path = 'Water Level Master_D.csv'\n",
    "\n",
    "# Read the CSV file into a DataFrame\n",
    "df = pd.read_csv(file_path)\n",
    "\n",
    "# Rename the first column (assuming the first column's name is 'old_name')\n",
    "new_name = 'Site'\n",
    "df.rename(columns={df.columns[0]: new_name}, inplace=True)\n",
    "\n",
    "# Save the modified DataFrame back to a CSV file\n",
    "df.to_csv(file_path, index=False)\n"
   ]
  },
  {
   "cell_type": "code",
   "execution_count": 19,
   "id": "2834a389-6d8f-4eaa-a7ff-3b2ac8b68ba6",
   "metadata": {
    "tags": []
   },
   "outputs": [],
   "source": [
    "import pandas as pd\n",
    "\n",
    "# Replace 'file1.csv' and 'file2.csv' with the actual file paths of your CSV files\n",
    "file1_path = 'LM_D.csv'\n",
    "file2_path = 'Water Level Master_D.csv'\n",
    "\n",
    "# Read the CSV files into pandas DataFrames\n",
    "# Specify dtype for the 'Site' column as string to avoid DtypeWarning\n",
    "df1 = pd.read_csv(file1_path, dtype={'Site': object})\n",
    "df2 = pd.read_csv(file2_path, dtype={'Site': object})  # Specify 'Site' as string type or object\n",
    "\n",
    "# Merge the DataFrames based on the common column 'site'\n",
    "merged_df = pd.merge(df1, df2, on='Site')\n",
    "\n",
    "# Save the merged DataFrame to a new CSV file or work with it as needed\n",
    "merged_df.to_csv('merged_file.csv', index=False)\n"
   ]
  },
  {
   "cell_type": "code",
   "execution_count": 27,
   "id": "a5894e87-7bd6-4e96-9628-05813e8edee8",
   "metadata": {
    "tags": []
   },
   "outputs": [
    {
     "name": "stdout",
     "output_type": "stream",
     "text": [
      "Number of unique sites: 3609\n"
     ]
    }
   ],
   "source": [
    "import pandas as pd\n",
    "\n",
    "# Assuming your CSV file is named 'datafile.csv' and the column containing sites is named 'site_column'\n",
    "data = pd.read_csv('LM_D.csv', low_memory=False)\n",
    "\n",
    "# Count the number of unique sites in the 'site_column'\n",
    "unique_sites = len(data['DecLatVa'].unique())\n",
    "\n",
    "print(\"Number of unique sites:\", unique_sites)\n"
   ]
  },
  {
   "cell_type": "code",
   "execution_count": null,
   "id": "a3297eff-bdb0-4112-9d83-dde7f46ad12f",
   "metadata": {},
   "outputs": [],
   "source": []
  }
 ],
 "metadata": {
  "kernelspec": {
   "display_name": "Python 3 (ipykernel)",
   "language": "python",
   "name": "python3"
  },
  "language_info": {
   "codemirror_mode": {
    "name": "ipython",
    "version": 3
   },
   "file_extension": ".py",
   "mimetype": "text/x-python",
   "name": "python",
   "nbconvert_exporter": "python",
   "pygments_lexer": "ipython3",
   "version": "3.11.4"
  }
 },
 "nbformat": 4,
 "nbformat_minor": 5
}
