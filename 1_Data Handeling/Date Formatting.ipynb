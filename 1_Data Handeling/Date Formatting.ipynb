{
 "cells": [
  {
   "cell_type": "markdown",
   "id": "4a49f1ab-64eb-49bc-bf1d-3a6b4ac4209d",
   "metadata": {},
   "source": [
    "# Date Formatting"
   ]
  },
  {
   "cell_type": "code",
   "execution_count": 1,
   "id": "43215e4d-5127-4f90-88ba-6261b75d6ad7",
   "metadata": {
    "tags": []
   },
   "outputs": [],
   "source": [
    "import pandas as pd\n",
    "\n",
    "# Step 1: Read the CSV file into a DataFrame\n",
    "file_path = 'WL_M7.csv'\n",
    "df = pd.read_csv(file_path)\n",
    "\n",
    "# Step 2: Replace '-' with '/'\n",
    "df['date'] = df['date'].str.replace('-', '/')\n",
    "\n",
    "# Step 3: Convert the 'date' column to datetime data type\n",
    "df['date'] = pd.to_datetime(df['date'])\n",
    "\n",
    "# Step 4: Save the modified DataFrame back to a new CSV file (optional)\n",
    "# Uncomment the line below if you want to save the DataFrame back to a new CSV file.\n",
    "df.to_csv('output_file_path.csv', index=False)\n",
    "\n",
    "# Now, the 'date' column in the DataFrame has '-' replaced with '/', and the data type is datetime.\n"
   ]
  }
 ],
 "metadata": {
  "kernelspec": {
   "display_name": "Python 3 (ipykernel)",
   "language": "python",
   "name": "python3"
  },
  "language_info": {
   "codemirror_mode": {
    "name": "ipython",
    "version": 3
   },
   "file_extension": ".py",
   "mimetype": "text/x-python",
   "name": "python",
   "nbconvert_exporter": "python",
   "pygments_lexer": "ipython3",
   "version": "3.11.4"
  }
 },
 "nbformat": 4,
 "nbformat_minor": 5
}
