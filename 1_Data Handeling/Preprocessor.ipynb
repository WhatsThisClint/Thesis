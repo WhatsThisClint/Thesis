{
 "cells": [
  {
   "cell_type": "markdown",
   "id": "76283c66-1ed5-4c9a-a67d-115e8beaabd0",
   "metadata": {},
   "source": [
    "## Merge Data from multiple csv files to one file"
   ]
  },
  {
   "cell_type": "markdown",
   "id": "4baba221-0b41-416b-a185-5e986fc6fbdb",
   "metadata": {},
   "source": [
    "Since the portal gives you multiple files for the location, the site information and the water level for each download instance which cannot be greater than 100, we need to merge the files into one for the analysis. Before that we need to make all the files use the same delimiter otherwise they dont merge.\n",
    "\n",
    "Make sure you only have files you need to merge in the folder and remove unnecessary files once the code runs."
   ]
  },
  {
   "cell_type": "code",
   "execution_count": 8,
   "id": "e9c8f367-b96e-4148-a9c2-49af44f21a00",
   "metadata": {
    "tags": []
   },
   "outputs": [],
   "source": [
    "import os\n",
    "import pandas as pd\n",
    "\n",
    "\n",
    "def identify_delimiter(file_path: str) -> str:\n",
    "\n",
    "#     Identify the delimiter used in the first line of a CSV file.\n",
    "#     Args:\n",
    "#         file_path (str): The path of the CSV file.\n",
    "#     Returns:\n",
    "#         str: The detected delimiter (',' for comma, '\\t' for tab, or ';' for default).\n",
    "\n",
    "    with open(file_path, 'r') as f:\n",
    "        first_line = f.readline()\n",
    "        if ',' in first_line:\n",
    "            return ','\n",
    "        elif '\\t' in first_line:\n",
    "            return '\\t'\n",
    "        else:\n",
    "            # If no common delimiter is found, assume semicolon as the default\n",
    "            return ';'\n",
    "\n",
    "\n",
    "def change_delimiter(input_file: str, output_file: str, delimiter: str) -> None:\n",
    "\n",
    "#     Read a CSV file with a given delimiter and save it with a different delimiter.\n",
    "#     Args:\n",
    "#         input_file (str): The path of the input CSV file.\n",
    "#         output_file (str): The path of the output CSV file.\n",
    "#         delimiter (str): The delimiter used in the input file.\n",
    "\n",
    "    df = pd.read_csv(input_file, delimiter=delimiter)\n",
    "    df.to_csv(output_file, index=False, sep=';')\n",
    "\n",
    "\n",
    "def process_csv_files() -> None:\n",
    "\n",
    "    # Process all CSV files in the current working directory.\n",
    "    # For each file, identify the delimiter, and save the modified CSV file.\n",
    "\n",
    "    root_folder = os.getcwd()  # Get the current working directory as the root folder\n",
    "\n",
    "    for file in os.listdir(root_folder):\n",
    "        if file.endswith('.csv'):\n",
    "            input_file_path = os.path.join(root_folder, file)\n",
    "            output_file_path = os.path.join(root_folder, f\"m_{file}\")\n",
    "\n",
    "            delimiter = identify_delimiter(input_file_path)\n",
    "            change_delimiter(input_file_path, output_file_path, delimiter)\n",
    "\n",
    "\n",
    "if __name__ == \"__main__\":\n",
    "    process_csv_files()\n"
   ]
  },
  {
   "cell_type": "code",
   "execution_count": null,
   "id": "c811ee9b-3883-4c80-8a67-8e4e884e9c4a",
   "metadata": {},
   "outputs": [],
   "source": [
    "\n",
    "\n",
    "import os\n",
    "import pandas as pd\n",
    "\n",
    "def identify_delimiter(file_path: str) -> str:\n",
    "    with open(file_path, 'r') as f:\n",
    "        first_line = f.readline()\n",
    "        if ',' in first_line:\n",
    "            return ','\n",
    "        elif '\\t' in first_line:\n",
    "            return '\\t'\n",
    "        else:\n",
    "            # If no common delimiter is found, assume semicolon as the default\n",
    "            return ';'\n",
    "\n",
    "def process_csv_files():\n",
    "    # This function reads all CSV files in the current working directory and appends their contents to a master DataFrame.\n",
    "    # The resulting DataFrame is then saved to a new CSV file named 'Master High Plains.csv'.\n",
    "\n",
    "    files_to_merge = []\n",
    "\n",
    "    for file in os.listdir(os.getcwd()):\n",
    "        if file.endswith('.csv'):\n",
    "            input_file_path = os.path.join(os.getcwd(), file)\n",
    "            delimiter = identify_delimiter(input_file_path)\n",
    "            files_to_merge.append(pd.read_csv(input_file_path, delimiter=delimiter))\n",
    "\n",
    "    master_df = pd.concat(files_to_merge, ignore_index=True)\n",
    "\n",
    "    master_df.to_csv('Master High Plains.csv', index=False)\n",
    "\n",
    "process_csv_files()\n"
   ]
  },
  {
   "cell_type": "markdown",
   "id": "aa61682c-5414-46d2-af3c-b3fc461590f1",
   "metadata": {
    "tags": []
   },
   "source": [
    "## Format Columns"
   ]
  },
  {
   "cell_type": "markdown",
   "id": "39f23420-5b4a-435d-9adc-0608e97b1fc8",
   "metadata": {},
   "source": [
    "You might have data which is unwanted to you need to drop a few columns for the analysis and create a new file."
   ]
  },
  {
   "cell_type": "markdown",
   "id": "d367a9a9-8fa0-4968-9ac0-f3e675a949d2",
   "metadata": {},
   "source": [
    "# Merge the Location and Water Level File "
   ]
  },
  {
   "cell_type": "code",
   "execution_count": null,
   "id": "ff984166-b5b3-4358-9026-70b40632ea76",
   "metadata": {},
   "outputs": [],
   "source": [
    "import pandas as pd\n",
    "\n",
    "# Load the first CSV file\n",
    "#data1 = pd.read_csv('Water Lvl Master - copy.csv')\n",
    "data1 = pd.read_csv('Water Lvl Master - copy.csv', low_memory=False)\n",
    "\n",
    "# Load the second CSV file\n",
    "data2 = pd.read_csv('Site Master.csv', low_memory=False)\n",
    "\n",
    "# Perform the merge based on the common unique ID column\n",
    "merged_data = pd.merge(data1, data2[['SiteNo', 'DecLatVa', 'DecLongVa']], on='SiteNo', how='left')\n",
    "\n",
    "# Save the merged data to a new CSV file\n",
    "merged_data.to_csv('merged_output.csv', index=False)"
   ]
  }
 ],
 "metadata": {
  "kernelspec": {
   "display_name": "Python 3 (ipykernel)",
   "language": "python",
   "name": "python3"
  },
  "language_info": {
   "codemirror_mode": {
    "name": "ipython",
    "version": 3
   },
   "file_extension": ".py",
   "mimetype": "text/x-python",
   "name": "python",
   "nbconvert_exporter": "python",
   "pygments_lexer": "ipython3",
   "version": "3.11.4"
  }
 },
 "nbformat": 4,
 "nbformat_minor": 5
}
