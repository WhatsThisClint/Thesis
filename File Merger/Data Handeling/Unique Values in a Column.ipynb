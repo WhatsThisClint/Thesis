{
 "cells": [
  {
   "cell_type": "markdown",
   "id": "145e8f33-d775-4992-846f-b2893b87d918",
   "metadata": {},
   "source": [
    "# Unique Values in a Column"
   ]
  },
  {
   "cell_type": "code",
   "execution_count": 1,
   "id": "e4e9cf77-60e5-4cc2-8c96-e938ceb2c6fe",
   "metadata": {
    "tags": []
   },
   "outputs": [
    {
     "name": "stdout",
     "output_type": "stream",
     "text": [
      "Number of unique sites: 2221\n"
     ]
    }
   ],
   "source": [
    "import pandas as pd\n",
    "\n",
    "# Assuming your CSV file is named 'datafile.csv' and the column containing sites is named 'site_column'\n",
    "data = pd.read_csv('Lat Long Merged string.csv', low_memory=False)\n",
    "\n",
    "# Count the number of unique sites in the 'site_column'\n",
    "unique_sites = len(data['Site'].unique())\n",
    "\n",
    "print(\"Number of unique sites:\", unique_sites)\n"
   ]
  },
  {
   "cell_type": "code",
   "execution_count": null,
   "id": "8d520bec-0772-4ef4-975c-d3514254cdbf",
   "metadata": {},
   "outputs": [],
   "source": []
  }
 ],
 "metadata": {
  "kernelspec": {
   "display_name": "Python 3 (ipykernel)",
   "language": "python",
   "name": "python3"
  },
  "language_info": {
   "codemirror_mode": {
    "name": "ipython",
    "version": 3
   },
   "file_extension": ".py",
   "mimetype": "text/x-python",
   "name": "python",
   "nbconvert_exporter": "python",
   "pygments_lexer": "ipython3",
   "version": "3.11.4"
  }
 },
 "nbformat": 4,
 "nbformat_minor": 5
}
