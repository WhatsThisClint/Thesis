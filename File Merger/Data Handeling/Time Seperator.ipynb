{
 "cells": [
  {
   "cell_type": "markdown",
   "id": "53760d32-342f-4c0b-8259-8268f12e363a",
   "metadata": {},
   "source": [
    "# Sepearet the Date from the Time column"
   ]
  },
  {
   "cell_type": "code",
   "execution_count": 15,
   "id": "d4ea3353-98e3-427f-9a86-a263da9ddd78",
   "metadata": {
    "tags": []
   },
   "outputs": [],
   "source": [
    "import pandas as pd\n",
    "\n",
    "# Replace 'your_csv_file.csv' with the actual path to your CSV file\n",
    "df = pd.read_csv('WL_M1.csv', low_memory=False)\n",
    "\n",
    "# Extract the first 10 characters from the 'Time' column and create a new 'date' column\n",
    "df['Date'] = df['Time'].str[:10]\n",
    "\n",
    "# Save the modified DataFrame back to a new CSV file (optional)\n",
    "# Replace 'output_file.csv' with the desired name for the new CSV file\n",
    "df.to_csv('output_file.csv', index=False)\n"
   ]
  },
  {
   "cell_type": "code",
   "execution_count": null,
   "id": "006794be-f902-4665-8113-abc957cba85f",
   "metadata": {},
   "outputs": [],
   "source": []
  }
 ],
 "metadata": {
  "kernelspec": {
   "display_name": "Python 3 (ipykernel)",
   "language": "python",
   "name": "python3"
  },
  "language_info": {
   "codemirror_mode": {
    "name": "ipython",
    "version": 3
   },
   "file_extension": ".py",
   "mimetype": "text/x-python",
   "name": "python",
   "nbconvert_exporter": "python",
   "pygments_lexer": "ipython3",
   "version": "3.11.4"
  }
 },
 "nbformat": 4,
 "nbformat_minor": 5
}
