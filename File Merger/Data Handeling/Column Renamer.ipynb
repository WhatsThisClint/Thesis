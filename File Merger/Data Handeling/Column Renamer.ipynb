{
 "cells": [
  {
   "cell_type": "markdown",
   "id": "9aaf7711-4063-4f8f-9d32-e885f9871753",
   "metadata": {},
   "source": [
    "# Rename Columns Using Index"
   ]
  },
  {
   "cell_type": "code",
   "execution_count": null,
   "id": "0b85100d-4086-40cf-8946-da71f7dfa969",
   "metadata": {
    "tags": []
   },
   "outputs": [],
   "source": [
    "import csv\n",
    "\n",
    "def change_delimiter(input_file, output_file, input_delimiter=';', output_delimiter=','):\n",
    "    with open(input_file, 'r') as file_in, open(output_file, 'w', newline='') as file_out:\n",
    "        reader = csv.reader(file_in, delimiter=input_delimiter)\n",
    "        writer = csv.writer(file_out, delimiter=output_delimiter)\n",
    "        for row in reader:\n",
    "            writer.writerow(row)\n",
    "\n",
    "# Example usage\n",
    "input_file = 'Water Level Master.csv'\n",
    "output_file = 'Water Level Master_D.csv'\n",
    "change_delimiter(input_file, output_file, ';', ',')\n",
    "\n",
    "print(\"Delimiter changed successfully!\")"
   ]
  },
  {
   "cell_type": "code",
   "execution_count": null,
   "id": "4afe235c-634f-4ca4-9131-09e10aec9523",
   "metadata": {},
   "outputs": [],
   "source": [
    "import pandas as pd\n",
    "\n",
    "# Replace 'your_file.csv' with the actual filename\n",
    "file_path = 'Water Level Master_D.csv'\n",
    "\n",
    "# Read the CSV file into a DataFrame\n",
    "df = pd.read_csv(file_path)\n",
    "\n",
    "# Rename the first column (assuming the first column's name is 'old_name')\n",
    "new_name = 'Site'\n",
    "df.rename(columns={df.columns[0]: new_name}, inplace=True)\n",
    "\n",
    "# Save the modified DataFrame back to a CSV file\n",
    "df.to_csv(file_path, index=False)\n"
   ]
  }
 ],
 "metadata": {
  "kernelspec": {
   "display_name": "Python 3 (ipykernel)",
   "language": "python",
   "name": "python3"
  },
  "language_info": {
   "codemirror_mode": {
    "name": "ipython",
    "version": 3
   },
   "file_extension": ".py",
   "mimetype": "text/x-python",
   "name": "python",
   "nbconvert_exporter": "python",
   "pygments_lexer": "ipython3",
   "version": "3.11.4"
  }
 },
 "nbformat": 4,
 "nbformat_minor": 5
}
