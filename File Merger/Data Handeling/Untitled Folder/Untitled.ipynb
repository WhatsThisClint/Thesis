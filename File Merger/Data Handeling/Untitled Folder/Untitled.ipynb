{
 "cells": [
  {
   "cell_type": "code",
   "execution_count": 2,
   "id": "99a2a250-579b-4b62-b37d-47c25c20d500",
   "metadata": {
    "tags": []
   },
   "outputs": [
    {
     "name": "stdout",
     "output_type": "stream",
     "text": [
      "        date      level    site\n",
      "0 2015-01-31  -3.654957  Site 1\n",
      "1 2015-02-28  -5.608332  Site 1\n",
      "2 2015-03-31  -7.488328  Site 1\n",
      "3 2015-04-30 -18.216880  Site 1\n",
      "4 2015-05-31 -29.658440  Site 1\n"
     ]
    }
   ],
   "source": [
    "import pandas as pd\n",
    "import random\n",
    "\n",
    "# Step 1: Generate the date range from 1st Jan 1993 to 31st Dec 2022 at a monthly interval\n",
    "start_date = '2015-01-01'\n",
    "end_date = '2022-12-31'\n",
    "date_range = pd.date_range(start=start_date, end=end_date, freq='M')\n",
    "\n",
    "# Step 2: Create a DataFrame for the dataset\n",
    "num_sites = 10\n",
    "data = pd.DataFrame(columns=['date', 'level', 'site'])\n",
    "\n",
    "# Step 3: Simulate water level data for each site based on the specified conditions\n",
    "for site in range(1, num_sites + 1):\n",
    "    # Generate water level data for each month in the date range\n",
    "    water_level_data = []\n",
    "    for date in date_range:\n",
    "        month = date.month\n",
    "\n",
    "        # Simulate water level based on season (summer and rainy season)\n",
    "        if 4 <= month <= 7:  # Summer (April to July)\n",
    "            water_level = random.uniform(-15.0, -30.0)  # Water level drops during summer\n",
    "        elif 8 <= month <= 10:  # Rainy season (August to October)\n",
    "            water_level = random.uniform(-5.0, -30.0)  # Water level rises during rainy season\n",
    "        else:  # Other months\n",
    "            water_level = random.uniform(-1.5, -30.0)  # Normal water level\n",
    "\n",
    "        water_level_data.append(water_level)\n",
    "\n",
    "    # Add the simulated data to the DataFrame\n",
    "    site_data = pd.DataFrame({\n",
    "        'date': date_range,\n",
    "        'level': water_level_data,\n",
    "        'site': f'Site {site}'\n",
    "    })\n",
    "\n",
    "    data = pd.concat([data, site_data], ignore_index=True)\n",
    "\n",
    "# Step 4: Save the generated dataset to a CSV file\n",
    "data.to_csv('water_level_timeseries.csv', index=False)\n",
    "\n",
    "# Step 5: Display the first few rows of the generated dataset\n",
    "print(data.head())\n"
   ]
  },
  {
   "cell_type": "code",
   "execution_count": 3,
   "id": "b429e6fc-278a-45c7-975a-362de3d3318e",
   "metadata": {
    "tags": []
   },
   "outputs": [],
   "source": [
    "import pandas as pd\n",
    "import random\n",
    "from datetime import datetime, timedelta\n",
    "\n",
    "# Set random seed for reproducibility\n",
    "random.seed(42)\n",
    "\n",
    "# Function to simulate water level based on seasonal conditions\n",
    "def simulate_water_level(month):\n",
    "    if 4 <= month <= 7:  # Summer (April to July)\n",
    "        return 100 - (month - 4) * 10  # Decreasing water level each consecutive month in summer\n",
    "    elif 8 <= month <= 10:  # Rainy season (August to October)\n",
    "        return 60 + random.randint(-5, 5)  # Random fluctuation in water level during rainy season\n",
    "    else:\n",
    "        return 80  # Rest of the months (January to March, November, December) with stable water level\n",
    "\n",
    "# Generate the dates from 1 Jan 1993 to 31 Dec 2022 at monthly interval\n",
    "start_date = datetime(1993, 1, 1)\n",
    "end_date = datetime(2022, 12, 31)\n",
    "dates = [start_date + timedelta(days=30*i) for i in range((end_date - start_date).days // 30)]\n",
    "\n",
    "# Create an empty list to store the data\n",
    "data = []\n",
    "\n",
    "# Generate data for each site\n",
    "num_sites = 10\n",
    "for site_id in range(1, num_sites + 1):\n",
    "    site_name = f'Site_{site_id}'\n",
    "    for date in dates:\n",
    "        water_level = simulate_water_level(date.month)\n",
    "        data.append((date, water_level, site_name))\n",
    "\n",
    "# Create a DataFrame from the data\n",
    "df = pd.DataFrame(data, columns=['date', 'level', 'site'])\n",
    "\n",
    "# Save the DataFrame to a CSV file\n",
    "df.to_csv('water_level_timeseries.csv', index=False)\n"
   ]
  },
  {
   "cell_type": "code",
   "execution_count": 6,
   "id": "a82b64b7-b2d2-4dcc-aa57-9dcec25f61d5",
   "metadata": {
    "tags": []
   },
   "outputs": [],
   "source": [
    "import pandas as pd\n",
    "import random\n",
    "from datetime import datetime, timedelta\n",
    "\n",
    "# Set random seed for reproducibility\n",
    "random.seed(42)\n",
    "\n",
    "# Function to simulate water level based on seasonal conditions and site-specific values\n",
    "def simulate_water_level(month, site_id):\n",
    "    # Set site-specific parameters for water level simulation\n",
    "    summer_drop_rate = random.uniform(5, 15)  # Random drop rate for each site during summer\n",
    "    rainy_season_fluctuation = round(random.uniform(5, 10))  # Random fluctuation for each site during rainy season\n",
    "    \n",
    "    if 4 <= month <= 7:  # Summer (April to July)\n",
    "        return 100 - (month - 4) * summer_drop_rate  # Decreasing water level each consecutive month in summer\n",
    "    elif 8 <= month <= 10:  # Rainy season (August to October)\n",
    "        return 60 + random.randint(-rainy_season_fluctuation, rainy_season_fluctuation)  # Random fluctuation in water level during rainy season\n",
    "    else:\n",
    "        return 80  # Rest of the months (January to March, November, December) with stable water level\n",
    "\n",
    "# Generate the dates from 1 Jan 1993 to 31 Dec 2022 at monthly interval\n",
    "start_date = datetime(2015, 1, 1)\n",
    "end_date = datetime(2022, 12, 31)\n",
    "dates = [start_date + timedelta(days=30*i) for i in range((end_date - start_date).days // 30)]\n",
    "\n",
    "# Create an empty list to store the data\n",
    "data = []\n",
    "\n",
    "# Generate data for each site\n",
    "num_sites = 10\n",
    "for site_id in range(1, num_sites + 1):\n",
    "    site_name = f'Site_{site_id}'\n",
    "    for date in dates:\n",
    "        water_level = simulate_water_level(date.month, site_id)\n",
    "        data.append((date, water_level, site_name))\n",
    "\n",
    "# Create a DataFrame from the data\n",
    "df = pd.DataFrame(data, columns=['date', 'level', 'site'])\n",
    "\n",
    "# Save the DataFrame to a CSV file\n",
    "df.to_csv('water_level_timeseries2.csv', index=False)\n"
   ]
  },
  {
   "cell_type": "markdown",
   "id": "9852c411-ad6c-43c6-a4d9-23863d6325f6",
   "metadata": {},
   "source": [
    "# Linear Regression"
   ]
  },
  {
   "cell_type": "code",
   "execution_count": 17,
   "id": "571f85f4-b36b-4c3f-9315-cfd80e09d7f2",
   "metadata": {
    "tags": []
   },
   "outputs": [
    {
     "name": "stdout",
     "output_type": "stream",
     "text": [
      "                            OLS Regression Results                            \n",
      "==============================================================================\n",
      "Dep. Variable:                  level   R-squared:                      -0.000\n",
      "Model:                            OLS   Adj. R-squared:                 -0.000\n",
      "Method:                 Least Squares   F-statistic:                       nan\n",
      "Date:                Fri, 28 Jul 2023   Prob (F-statistic):                nan\n",
      "Time:                        11:02:25   Log-Likelihood:                -14217.\n",
      "No. Observations:                3650   AIC:                         2.844e+04\n",
      "Df Residuals:                    3649   BIC:                         2.844e+04\n",
      "Df Model:                           0                                         \n",
      "Covariance Type:            nonrobust                                         \n",
      "==============================================================================\n",
      "                 coef    std err          t      P>|t|      [0.025      0.975]\n",
      "------------------------------------------------------------------------------\n",
      "0             76.6063      0.197    388.991      0.000      76.220      76.992\n",
      "==============================================================================\n",
      "Omnibus:                       55.676   Durbin-Watson:                   0.728\n",
      "Prob(Omnibus):                  0.000   Jarque-Bera (JB):               32.549\n",
      "Skew:                          -0.014   Prob(JB):                     8.55e-08\n",
      "Kurtosis:                       2.538   Cond. No.                         1.00\n",
      "==============================================================================\n",
      "\n",
      "Notes:\n",
      "[1] Standard Errors assume that the covariance matrix of the errors is correctly specified.\n"
     ]
    },
    {
     "data": {
      "image/png": "[encoded data removed]",
      "text/plain": [
       "<Figure size 1200x600 with 1 Axes>"
      ]
     },
     "metadata": {},
     "output_type": "display_data"
    }
   ],
   "source": [
    "import pandas as pd\n",
    "import statsmodels.api as sm\n",
    "import matplotlib.pyplot as plt\n",
    "\n",
    "csv_file = 'water_level_timeseries.csv'  # Replace with the actual path to your CSV file\n",
    "df = pd.read_csv(csv_file)\n",
    "\n",
    "df['date'] = pd.to_datetime(df['date'])\n",
    "df.set_index('date', inplace=True)\n",
    "\n",
    "y = df['level']  # Replace 'groundwater_level' with the actual column name for groundwater level\n",
    "X = sm.add_constant(pd.Series(1, index=df.index))  # Add a constant column of ones\n",
    "\n",
    "model = sm.OLS(y, X).fit()\n",
    "print(model.summary())\n",
    "\n",
    "plt.figure(figsize=(12, 6))\n",
    "plt.scatter(df.index, y, label='Groundwater Level', s=10)\n",
    "plt.plot(df.index, model.fittedvalues, color='red', label='Regression Line')\n",
    "plt.xlabel('Date')\n",
    "plt.ylabel('Groundwater Level')\n",
    "plt.title('Groundwater Time Series Analysis with Linear Regression')\n",
    "plt.legend()\n",
    "plt.show()\n"
   ]
  },
  {
   "cell_type": "markdown",
   "id": "06f9d615-811e-4232-9b0b-ec847d9ebc4e",
   "metadata": {},
   "source": [
    "# Multiple line reg"
   ]
  },
  {
   "cell_type": "code",
   "execution_count": null,
   "id": "da07d7b3-7128-43b3-8767-a109a8436a91",
   "metadata": {
    "tags": []
   },
   "outputs": [],
   "source": [
    "import pandas as pd\n",
    "import statsmodels.api as sm\n",
    "import matplotlib.pyplot as plt\n",
    "\n",
    "# Step 1: Read the CSV file into a DataFrame\n",
    "df = pd.read_csv('Fake_D.csv')\n",
    "\n",
    "# Step 2: Data Preprocessing\n",
    "df['date'] = pd.to_datetime(df['date'], format='%d/%m/%Y')  # Corrected date format\n",
    "\n",
    "# Step 3: Check and convert the 'level' column to a numeric data type\n",
    "df['level'] = pd.to_numeric(df['level'], errors='coerce')\n",
    "\n",
    "# Step 4: Create a list to store the regression models\n",
    "regression_models = []\n",
    "\n",
    "# Step 5: Conduct Linear Regression for each site\n",
    "sites = df['site'].unique()\n",
    "\n",
    "for site in sites:\n",
    "    site_data = df[df['site'] == site]\n",
    "    X = sm.add_constant(site_data['date'].map(pd.Timestamp.toordinal))\n",
    "    y = site_data['level']\n",
    "    model = sm.OLS(y, X).fit()\n",
    "    regression_models.append(model)\n",
    "\n",
    "# Step 6: Plot all regression lines on one graph\n",
    "plt.figure(figsize=(12, 8))\n",
    "\n",
    "# Scatter plot of data points for each site\n",
    "for site in sites:\n",
    "    site_data = df[df['site'] == site]\n",
    "    plt.scatter(site_data['date'], site_data['level'], label=site, s=10)\n",
    "\n",
    "# Plot regression lines for each site\n",
    "for i, model in enumerate(regression_models):\n",
    "    site_data = df[df['site'] == sites[i]]\n",
    "    plt.plot(site_data['date'], model.fittedvalues, label=f'{sites[i]} Regression Line')\n",
    "\n",
    "plt.xlabel('Date')\n",
    "plt.ylabel('Water Level')\n",
    "plt.title('Linear Regression for Each Site')\n",
    "plt.legend()\n",
    "plt.tight_layout()\n",
    "plt.show()"
   ]
  },
  {
   "cell_type": "code",
   "execution_count": null,
   "id": "7aca6bad-1fcf-4faa-be62-da09e98bd398",
   "metadata": {},
   "outputs": [],
   "source": []
  }
 ],
 "metadata": {
  "kernelspec": {
   "display_name": "Python 3 (ipykernel)",
   "language": "python",
   "name": "python3"
  },
  "language_info": {
   "codemirror_mode": {
    "name": "ipython",
    "version": 3
   },
   "file_extension": ".py",
   "mimetype": "text/x-python",
   "name": "python",
   "nbconvert_exporter": "python",
   "pygments_lexer": "ipython3",
   "version": "3.11.4"
  }
 },
 "nbformat": 4,
 "nbformat_minor": 5
}
