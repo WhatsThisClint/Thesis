{
 "cells": [
  {
   "cell_type": "markdown",
   "id": "f9404e4c-a92a-4a4f-83d2-ee32972ab97a",
   "metadata": {},
   "source": [
    "# Water Level to Depth"
   ]
  },
  {
   "cell_type": "markdown",
   "id": "14de3cf9-85f6-499b-9d24-d07567587771",
   "metadata": {},
   "source": [
    "## Do not run this code if you already ram the Water Level Unit Changer. It already includes it."
   ]
  },
  {
   "cell_type": "code",
   "execution_count": 2,
   "id": "f666375b-e584-4529-9476-f3cac29c54e5",
   "metadata": {
    "tags": []
   },
   "outputs": [],
   "source": [
    "import pandas as pd\n",
    "\n",
    "# Replace 'input_file.csv' with the path to your CSV file\n",
    "input_file = 'WL_M8.csv'\n",
    "output_file = 'WL_M9.csv'\n",
    "\n",
    "# Read the CSV file into a pandas DataFrame\n",
    "df = pd.read_csv(input_file)\n",
    "\n",
    "# Multiply the values in the 'level' column by -1\n",
    "df['level'] = df['level'] * -1\n",
    "\n",
    "# Save the updated DataFrame to a new CSV file\n",
    "df.to_csv(output_file, index=False)\n"
   ]
  },
  {
   "cell_type": "code",
   "execution_count": null,
   "id": "65e14d2b-6954-4216-8f27-03ed6dc0ce4c",
   "metadata": {},
   "outputs": [],
   "source": []
  }
 ],
 "metadata": {
  "kernelspec": {
   "display_name": "Python 3 (ipykernel)",
   "language": "python",
   "name": "python3"
  },
  "language_info": {
   "codemirror_mode": {
    "name": "ipython",
    "version": 3
   },
   "file_extension": ".py",
   "mimetype": "text/x-python",
   "name": "python",
   "nbconvert_exporter": "python",
   "pygments_lexer": "ipython3",
   "version": "3.11.4"
  }
 },
 "nbformat": 4,
 "nbformat_minor": 5
}
