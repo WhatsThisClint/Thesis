{
 "cells": [
  {
   "cell_type": "code",
   "execution_count": null,
   "id": "d7971146-b7e0-44a0-9851-2fcc1209f208",
   "metadata": {},
   "outputs": [],
   "source": []
  },
  {
   "cell_type": "markdown",
   "id": "3e172d90-6b4c-4295-bc6e-9bceae43014d",
   "metadata": {},
   "source": [
    "## Change the file Delimiter"
   ]
  },
  {
   "cell_type": "raw",
   "id": "b2cfe554-9af4-409d-84a2-c48ccc2e71cf",
   "metadata": {
    "tags": []
   },
   "source": [
    "import csv\n",
    "\n",
    "def change_delimiter(input_file, output_file, input_delimiter=';', output_delimiter=','):\n",
    "    with open(input_file, 'r') as file_in, open(output_file, 'w', newline='') as file_out:\n",
    "        reader = csv.reader(file_in, delimiter=input_delimiter)\n",
    "        writer = csv.writer(file_out, delimiter=output_delimiter)\n",
    "        for row in reader:\n",
    "            writer.writerow(row)\n",
    "\n",
    "# Example usage\n",
    "input_file = 'Fake.csv'\n",
    "output_file = 'Fake_D.csv'\n",
    "change_delimiter(input_file, output_file, ';', ',')\n",
    "\n",
    "print(\"Delimiter changed successfully!\")"
   ]
  },
  {
   "cell_type": "markdown",
   "id": "de127b98-5978-4f20-8adc-39b196e7899c",
   "metadata": {},
   "source": [
    "## Column Deleter"
   ]
  },
  {
   "cell_type": "raw",
   "id": "09834310-8147-4d49-a5f7-dd1b9d28e35b",
   "metadata": {
    "tags": []
   },
   "source": [
    "import pandas as pd\n",
    "\n",
    "# Load the CSV file into a DataFrame\n",
    "df = pd.read_csv('WL_M2.csv', low_memory=False)\n",
    "\n",
    "# Drop the \"Time\" column\n",
    "df = df.drop(columns=['Time'])\n",
    "\n",
    "# Save the DataFrame back to a new CSV file\n",
    "df.to_csv('data_without_time.csv', index=False)\n"
   ]
  },
  {
   "cell_type": "markdown",
   "id": "b6c6b1a0-2360-4ffc-9bb7-daa24e022f9b",
   "metadata": {},
   "source": [
    "## Column Name Modifier and Rearranger "
   ]
  },
  {
   "cell_type": "raw",
   "id": "b68ce3d4-14da-44e9-8ff7-fa43755f9d0a",
   "metadata": {
    "tags": []
   },
   "source": [
    "import pandas as pd\n",
    "\n",
    "# Read the file (replace 'your_file.csv' with the actual file path)\n",
    "df = pd.read_csv('WL_M5.csv')\n",
    "\n",
    "# Rename the columns\n",
    "df.rename(columns={'Site': 'site', 'Date': 'date', 'Water Level m': 'level'}, inplace=True)\n",
    "\n",
    "# Reorder the columns\n",
    "df = df[['site', 'date', 'level']]\n",
    "\n",
    "# Save the modified DataFrame back to a CSV file\n",
    "df.to_csv('modified_file.csv', index=False)\n"
   ]
  },
  {
   "cell_type": "markdown",
   "id": "7e977934-77e7-4bd0-a8ac-b80486a819c6",
   "metadata": {},
   "source": [
    "## Column Type Changer"
   ]
  },
  {
   "cell_type": "raw",
   "id": "2c38c784-7202-4a32-8332-0f0bea66cbee",
   "metadata": {},
   "source": [
    "import pandas as pd\n",
    "\n",
    "def change_column_to_string(input_file, output_file, column_name):\n",
    "    # Read the CSV file into a DataFrame with the specified delimiter\n",
    "    df = pd.read_csv(input_file, sep=';')\n",
    "\n",
    "    # Check if the specified column exists in the DataFrame\n",
    "    if column_name not in df.columns:\n",
    "        raise ValueError(f\"Column '{column_name}' not found in the CSV file.\")\n",
    "\n",
    "    # Convert the specified column to string type\n",
    "    df[column_name] = df[column_name].astype(str)\n",
    "\n",
    "    # Save the DataFrame back to a new CSV file with the same delimiter\n",
    "    df.to_csv(output_file, index=False, sep=';')\n",
    "\n",
    "# Example usage\n",
    "input_file = 'Water Lvl Master - Copy.csv'     # Replace with your input CSV file path\n",
    "output_file = 'Converted.csv'   # Replace with the desired output CSV file path\n",
    "column_to_convert = 'SiteNo'  # Replace 'ColumnName' with the name of the column you want to convert\n",
    "\n",
    "change_column_to_string(input_file, output_file, column_to_convert)\n"
   ]
  },
  {
   "cell_type": "markdown",
   "id": "a5c426f0-dfc7-4e8e-b878-54a13adbb67c",
   "metadata": {},
   "source": [
    "## Date Formatter"
   ]
  },
  {
   "cell_type": "raw",
   "id": "fca73ff7-b1df-4f8f-8c27-f23303424f75",
   "metadata": {
    "tags": []
   },
   "source": [
    "import pandas as pd\n",
    "\n",
    "# Step 1: Read the CSV file into a DataFrame\n",
    "file_path = 'WL_M7.csv'\n",
    "df = pd.read_csv(file_path)\n",
    "\n",
    "# Step 2: Replace '-' with '/'\n",
    "df['date'] = df['date'].str.replace('-', '/')\n",
    "\n",
    "# Step 3: Convert the 'date' column to datetime data type\n",
    "df['date'] = pd.to_datetime(df['date'])\n",
    "\n",
    "# Step 4: Save the modified DataFrame back to a new CSV file (optional)\n",
    "# Uncomment the line below if you want to save the DataFrame back to a new CSV file.\n",
    "df.to_csv('output_file_path.csv', index=False)\n",
    "\n",
    "# Now, the 'date' column in the DataFrame has '-' replaced with '/', and the data type is datetime.\n"
   ]
  },
  {
   "cell_type": "markdown",
   "id": "227514b5-5658-42e4-9ea4-24f40a7cd812",
   "metadata": {},
   "source": []
  }
 ],
 "metadata": {
  "kernelspec": {
   "display_name": "Python 3 (ipykernel)",
   "language": "python",
   "name": "python3"
  },
  "language_info": {
   "codemirror_mode": {
    "name": "ipython",
    "version": 3
   },
   "file_extension": ".py",
   "mimetype": "text/x-python",
   "name": "python",
   "nbconvert_exporter": "python",
   "pygments_lexer": "ipython3",
   "version": "3.11.4"
  }
 },
 "nbformat": 4,
 "nbformat_minor": 5
}
