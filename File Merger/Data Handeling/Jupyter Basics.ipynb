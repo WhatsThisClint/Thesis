{
 "cells": [
  {
   "cell_type": "markdown",
   "id": "81d861d1-c3c4-4c68-80e3-6c251b610833",
   "metadata": {},
   "source": [
    "# Test Code"
   ]
  },
  {
   "cell_type": "markdown",
   "id": "54379f2a-81a0-42c0-a027-cff3f3bdd5e4",
   "metadata": {},
   "source": [
    "## How to navigate using the Keyboard\n",
    "\n",
    "Click the enter key to enter edit mode and escape key to command mode."
   ]
  },
  {
   "cell_type": "markdown",
   "id": "e9796f33-5bed-4856-9bdb-b75e0d400460",
   "metadata": {},
   "source": [
    "## Add and remove cells\n",
    "\n",
    "Click the A key to add a block above a block and the the b key to add a block below a block"
   ]
  },
  {
   "cell_type": "markdown",
   "id": "dab3d4f8-56c6-4ae0-9e1b-e9aef04289b6",
   "metadata": {},
   "source": [
    "## Cutting, Copying and Pasting Blocks\n",
    "\n",
    "Its as easy as X, C and V"
   ]
  },
  {
   "cell_type": "markdown",
   "id": "27b85baf-9ae0-4e23-bb22-d52bf6569a5c",
   "metadata": {},
   "source": [
    "## Change the block type\n",
    "\n",
    "1. Use the M key to change the block type to markdown\n",
    "2. R to make it Raw \n",
    "3. Y to make it a code"
   ]
  },
  {
   "cell_type": "markdown",
   "id": "72d9311e-bd30-423b-a4ee-2d965050d121",
   "metadata": {},
   "source": [
    "## Jumping Blocks\n",
    "\n",
    "Use the up arrow and the down arrow keys to navigate through blocks \n",
    "This can be done using j and k too \n",
    "j jumps down while k goes up"
   ]
  },
  {
   "cell_type": "markdown",
   "id": "d2dfb025-8837-444c-b0af-c67c89318a9a",
   "metadata": {},
   "source": [
    "## Changing the header type directly\n",
    "\n",
    "Use the numpad numbers to directly change the header to a corrosponding heading \n",
    "2 makes it header level 2\n",
    "3 makes it 3 and so on"
   ]
  },
  {
   "cell_type": "markdown",
   "id": "234f2cad-892d-4137-a7db-1d9842e500ec",
   "metadata": {},
   "source": [
    "## Deleting Block\n",
    "\n",
    "Navigate to a block and use dd to delete it"
   ]
  },
  {
   "cell_type": "markdown",
   "id": "c4e6d447-9c4c-4b76-bceb-cef97fcc723c",
   "metadata": {},
   "source": [
    "## Stopping and Restarting the Kernel\n",
    "\n",
    "Use II to interrupt the kernel\n",
    "Use 00 to restart the kernenl"
   ]
  },
  {
   "cell_type": "markdown",
   "id": "86e67180-affe-4dd2-a042-7f2327e32dc8",
   "metadata": {},
   "source": [
    "## Scrolling Up and Down\n",
    "\n",
    "Use the shift + space bar to quickly go to the top and the space bar to come down\n",
    "This is important coz even though each block of code runs independently, the sequence only works from top to bottom"
   ]
  },
  {
   "cell_type": "markdown",
   "id": "39fc21d6-2bdb-480d-a168-9935c2b71059",
   "metadata": {},
   "source": [
    "## Split Block at cursor\n",
    "\n",
    "If you are typing a long code and what to split it at a particular point mid text, use the ctrl shift - "
   ]
  },
  {
   "cell_type": "markdown",
   "id": "9be89293-428a-468b-bd66-d12707a153e6",
   "metadata": {},
   "source": [
    "and the code will continue from a new block"
   ]
  },
  {
   "cell_type": "markdown",
   "id": "c0bdfc16-8c25-4306-bae7-feef9022e5d3",
   "metadata": {},
   "source": [
    "## Merging Blocks\n",
    "\n",
    "Select two or more blocks and click ctrl shift m to merge them"
   ]
  },
  {
   "cell_type": "markdown",
   "id": "e81b2f66-2f77-41a3-a34d-28f861692977",
   "metadata": {},
   "source": [
    "## Running the Code\n",
    "\n",
    "The simplest way to run the do is to use shift and enter"
   ]
  },
  {
   "cell_type": "code",
   "execution_count": 7,
   "id": "ffed408f-7b8e-4605-95f6-b3ac28d0ecc4",
   "metadata": {},
   "outputs": [
    {
     "data": {
      "text/plain": [
       "30"
      ]
     },
     "execution_count": 7,
     "metadata": {},
     "output_type": "execute_result"
    }
   ],
   "source": [
    "25 + 5"
   ]
  },
  {
   "cell_type": "code",
   "execution_count": null,
   "id": "569bf112-4a79-4345-8d1a-148ad32d23ab",
   "metadata": {},
   "outputs": [],
   "source": []
  },
  {
   "cell_type": "code",
   "execution_count": null,
   "id": "17466be6-551b-4449-b6d3-cb11580a1a79",
   "metadata": {},
   "outputs": [],
   "source": [
    "bkj dkjb\n",
    "\n"
   ]
  },
  {
   "cell_type": "code",
   "execution_count": null,
   "id": "bcbe9924-eded-48a1-be78-c988fab0bfd0",
   "metadata": {},
   "outputs": [],
   "source": [
    " \n",
    "kjsdn"
   ]
  }
 ],
 "metadata": {
  "kernelspec": {
   "display_name": "Python 3 (ipykernel)",
   "language": "python",
   "name": "python3"
  },
  "language_info": {
   "codemirror_mode": {
    "name": "ipython",
    "version": 3
   },
   "file_extension": ".py",
   "mimetype": "text/x-python",
   "name": "python",
   "nbconvert_exporter": "python",
   "pygments_lexer": "ipython3",
   "version": "3.9.13"
  }
 },
 "nbformat": 4,
 "nbformat_minor": 5
}
