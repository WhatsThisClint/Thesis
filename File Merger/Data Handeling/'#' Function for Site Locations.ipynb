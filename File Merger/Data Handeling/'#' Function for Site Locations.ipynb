{
 "cells": [
  {
   "cell_type": "markdown",
   "id": "65bf0f57-4ce9-485e-ab97-5c6e2c92b763",
   "metadata": {},
   "source": [
    "# '#' Function for Site Locations"
   ]
  },
  {
   "cell_type": "code",
   "execution_count": 1,
   "id": "3475251f-7a5b-4a7f-9408-98b101fab569",
   "metadata": {
    "tags": []
   },
   "outputs": [],
   "source": [
    "import pandas as pd\n",
    "\n",
    "# Replace 'your_file.csv' with the actual name of your CSV file\n",
    "input_file = 'WL_M4.csv'\n",
    "\n",
    "# Read the CSV file into a pandas DataFrame\n",
    "df = pd.read_csv(input_file, low_memory=False)\n",
    "\n",
    "# Add '#' in front of every value in the 'Site' column\n",
    "df['Site'] = '#' + df['Site']\n",
    "\n",
    "# Replace 'output_file.csv' with the desired name for the updated CSV file\n",
    "output_file = 'output_file.csv'\n",
    "\n",
    "# Save the updated DataFrame back to a new CSV file\n",
    "df.to_csv(output_file, index=False)\n"
   ]
  },
  {
   "cell_type": "code",
   "execution_count": 2,
   "id": "191bc307-4225-402f-a13f-a43009adafcd",
   "metadata": {
    "tags": []
   },
   "outputs": [
    {
     "name": "stdout",
     "output_type": "stream",
     "text": [
      "Values in the 'Site' column have been converted to text and the file has been saved.\n"
     ]
    }
   ],
   "source": [
    "import pandas as pd\n",
    "\n",
    "def convert_to_text(value):\n",
    "    return str(value)\n",
    "\n",
    "# Replace 'your_file.csv' with the actual path to your CSV file\n",
    "file_path = 'WL_M4.csv'\n",
    "\n",
    "# Read the CSV file into a pandas DataFrame\n",
    "df = pd.read_csv(file_path, low_memory=False)\n",
    "\n",
    "# Modify the 'Site' column values to text using the convert_to_text function\n",
    "df['Site'] = df['Site'].apply(convert_to_text)\n",
    "\n",
    "# Save the updated DataFrame back to a new CSV file\n",
    "output_file_path = 'updated_file.csv'\n",
    "df.to_csv(output_file_path, index=False)\n",
    "\n",
    "print(\"Values in the 'Site' column have been converted to text and the file has been saved.\")\n"
   ]
  },
  {
   "cell_type": "code",
   "execution_count": null,
   "id": "ea55d316-494a-4638-8ca3-cb342e3aa156",
   "metadata": {},
   "outputs": [],
   "source": []
  }
 ],
 "metadata": {
  "kernelspec": {
   "display_name": "Python 3 (ipykernel)",
   "language": "python",
   "name": "python3"
  },
  "language_info": {
   "codemirror_mode": {
    "name": "ipython",
    "version": 3
   },
   "file_extension": ".py",
   "mimetype": "text/x-python",
   "name": "python",
   "nbconvert_exporter": "python",
   "pygments_lexer": "ipython3",
   "version": "3.11.4"
  }
 },
 "nbformat": 4,
 "nbformat_minor": 5
}
