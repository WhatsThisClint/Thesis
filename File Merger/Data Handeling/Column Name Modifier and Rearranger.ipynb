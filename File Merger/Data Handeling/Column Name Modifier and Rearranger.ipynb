{
 "cells": [
  {
   "cell_type": "code",
   "execution_count": 2,
   "id": "1a674672-5fb6-4daf-a9f9-3cd1ca05c2ae",
   "metadata": {
    "tags": []
   },
   "outputs": [],
   "source": [
    "import pandas as pd\n",
    "\n",
    "# Read the file (replace 'your_file.csv' with the actual file path)\n",
    "df = pd.read_csv('WL_M5.csv')\n",
    "\n",
    "# Rename the columns\n",
    "df.rename(columns={'Site': 'site', 'Date': 'date', 'Water Level m': 'level'}, inplace=True)\n",
    "\n",
    "# Reorder the columns\n",
    "df = df[['site', 'date', 'level']]\n",
    "\n",
    "# Save the modified DataFrame back to a CSV file\n",
    "df.to_csv('modified_file.csv', index=False)\n"
   ]
  },
  {
   "cell_type": "code",
   "execution_count": null,
   "id": "909f551b-9169-4df9-910b-6e3ecc10440e",
   "metadata": {},
   "outputs": [],
   "source": []
  }
 ],
 "metadata": {
  "kernelspec": {
   "display_name": "Python 3 (ipykernel)",
   "language": "python",
   "name": "python3"
  },
  "language_info": {
   "codemirror_mode": {
    "name": "ipython",
    "version": 3
   },
   "file_extension": ".py",
   "mimetype": "text/x-python",
   "name": "python",
   "nbconvert_exporter": "python",
   "pygments_lexer": "ipython3",
   "version": "3.11.4"
  }
 },
 "nbformat": 4,
 "nbformat_minor": 5
}
