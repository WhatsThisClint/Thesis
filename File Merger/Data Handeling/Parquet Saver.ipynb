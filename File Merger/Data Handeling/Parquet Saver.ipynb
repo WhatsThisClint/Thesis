{
 "cells": [
  {
   "cell_type": "code",
   "execution_count": 1,
   "id": "76505919-473b-46d9-b889-761b18e55578",
   "metadata": {
    "tags": []
   },
   "outputs": [
    {
     "name": "stdout",
     "output_type": "stream",
     "text": [
      "CSV file converted to Parquet successfully.\n"
     ]
    }
   ],
   "source": [
    "import pandas as pd\n",
    "\n",
    "# Step 1: Read the CSV file into a Pandas DataFrame\n",
    "csv_file_path = 'Data Subset-Copy1.csv'  # Replace with the path to your CSV file\n",
    "df = pd.read_csv(csv_file_path, sep=';')\n",
    "\n",
    "# Step 2: Convert the DataFrame to Parquet format\n",
    "parquet_file_path = 'output.parquet'  # Replace with the desired output Parquet file path\n",
    "df.to_parquet(parquet_file_path)\n",
    "\n",
    "print(\"CSV file converted to Parquet successfully.\")\n"
   ]
  },
  {
   "cell_type": "code",
   "execution_count": null,
   "id": "9fdcd572-ae63-4622-aa86-89e11006ecc1",
   "metadata": {},
   "outputs": [],
   "source": []
  }
 ],
 "metadata": {
  "kernelspec": {
   "display_name": "Python 3 (ipykernel)",
   "language": "python",
   "name": "python3"
  },
  "language_info": {
   "codemirror_mode": {
    "name": "ipython",
    "version": 3
   },
   "file_extension": ".py",
   "mimetype": "text/x-python",
   "name": "python",
   "nbconvert_exporter": "python",
   "pygments_lexer": "ipython3",
   "version": "3.11.4"
  }
 },
 "nbformat": 4,
 "nbformat_minor": 5
}
