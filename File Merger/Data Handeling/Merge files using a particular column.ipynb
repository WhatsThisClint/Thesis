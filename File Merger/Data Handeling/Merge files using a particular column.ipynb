{
 "cells": [
  {
   "cell_type": "markdown",
   "id": "6ced4db7-ff59-4c68-b2ff-161fe1f0cda3",
   "metadata": {},
   "source": [
    "# Merge files using a particular column"
   ]
  },
  {
   "cell_type": "code",
   "execution_count": 19,
   "id": "be51ec3c-f309-43b8-a732-e82d65f8786f",
   "metadata": {
    "tags": []
   },
   "outputs": [],
   "source": [
    "import pandas as pd\n",
    "\n",
    "# Replace 'file1.csv' and 'file2.csv' with the actual file paths of your CSV files\n",
    "file1_path = 'LM_D.csv'\n",
    "file2_path = 'Water Level Master_D.csv'\n",
    "\n",
    "# Read the CSV files into pandas DataFrames\n",
    "# Specify dtype for the 'Site' column as string to avoid DtypeWarning\n",
    "df1 = pd.read_csv(file1_path, dtype={'Site': object})\n",
    "df2 = pd.read_csv(file2_path, dtype={'Site': object})  # Specify 'Site' as string type or object\n",
    "\n",
    "# Merge the DataFrames based on the common column 'site'\n",
    "merged_df = pd.merge(df1, df2, on='Site')\n",
    "\n",
    "# Save the merged DataFrame to a new CSV file or work with it as needed\n",
    "merged_df.to_csv('merged_file.csv', index=False)\n"
   ]
  }
 ],
 "metadata": {
  "kernelspec": {
   "display_name": "Python 3 (ipykernel)",
   "language": "python",
   "name": "python3"
  },
  "language_info": {
   "codemirror_mode": {
    "name": "ipython",
    "version": 3
   },
   "file_extension": ".py",
   "mimetype": "text/x-python",
   "name": "python",
   "nbconvert_exporter": "python",
   "pygments_lexer": "ipython3",
   "version": "3.11.4"
  }
 },
 "nbformat": 4,
 "nbformat_minor": 5
}
