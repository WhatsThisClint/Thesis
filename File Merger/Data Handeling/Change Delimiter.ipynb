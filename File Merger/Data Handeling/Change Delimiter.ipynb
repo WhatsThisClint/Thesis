{
 "cells": [
  {
   "cell_type": "markdown",
   "id": "38a71104-0c5f-44c4-901f-c28bb8b09052",
   "metadata": {},
   "source": [
    "# Change the file Delimiter"
   ]
  },
  {
   "cell_type": "code",
   "execution_count": 1,
   "id": "cffb9785-df93-435c-aa7d-ef0efbab03db",
   "metadata": {
    "tags": []
   },
   "outputs": [
    {
     "name": "stdout",
     "output_type": "stream",
     "text": [
      "Delimiter changed successfully!\n"
     ]
    }
   ],
   "source": [
    "import csv\n",
    "\n",
    "def change_delimiter(input_file, output_file, input_delimiter=';', output_delimiter=','):\n",
    "    with open(input_file, 'r') as file_in, open(output_file, 'w', newline='') as file_out:\n",
    "        reader = csv.reader(file_in, delimiter=input_delimiter)\n",
    "        writer = csv.writer(file_out, delimiter=output_delimiter)\n",
    "        for row in reader:\n",
    "            writer.writerow(row)\n",
    "\n",
    "# Example usage\n",
    "input_file = 'Fake.csv'\n",
    "output_file = 'Fake_D.csv'\n",
    "change_delimiter(input_file, output_file, ';', ',')\n",
    "\n",
    "print(\"Delimiter changed successfully!\")"
   ]
  },
  {
   "cell_type": "code",
   "execution_count": null,
   "id": "6e6e9831-06dc-40f9-bba2-0787fa825907",
   "metadata": {},
   "outputs": [],
   "source": []
  }
 ],
 "metadata": {
  "kernelspec": {
   "display_name": "Python 3 (ipykernel)",
   "language": "python",
   "name": "python3"
  },
  "language_info": {
   "codemirror_mode": {
    "name": "ipython",
    "version": 3
   },
   "file_extension": ".py",
   "mimetype": "text/x-python",
   "name": "python",
   "nbconvert_exporter": "python",
   "pygments_lexer": "ipython3",
   "version": "3.11.4"
  }
 },
 "nbformat": 4,
 "nbformat_minor": 5
}
