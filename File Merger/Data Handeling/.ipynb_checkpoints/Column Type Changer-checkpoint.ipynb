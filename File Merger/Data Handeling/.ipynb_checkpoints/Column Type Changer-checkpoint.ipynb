{
 "cells": [
  {
   "cell_type": "code",
   "execution_count": 3,
   "id": "84ab248b-577c-41af-8949-8826c4386bf1",
   "metadata": {},
   "outputs": [],
   "source": [
    "import pandas as pd\n",
    "\n",
    "def change_column_to_string(input_file, output_file, column_name):\n",
    "    # Read the CSV file into a DataFrame with the specified delimiter\n",
    "    df = pd.read_csv(input_file, sep=';')\n",
    "\n",
    "    # Check if the specified column exists in the DataFrame\n",
    "    if column_name not in df.columns:\n",
    "        raise ValueError(f\"Column '{column_name}' not found in the CSV file.\")\n",
    "\n",
    "    # Convert the specified column to string type\n",
    "    df[column_name] = df[column_name].astype(str)\n",
    "\n",
    "    # Save the DataFrame back to a new CSV file with the same delimiter\n",
    "    df.to_csv(output_file, index=False, sep=';')\n",
    "\n",
    "# Example usage\n",
    "input_file = 'Water Lvl Master - Copy.csv'     # Replace with your input CSV file path\n",
    "output_file = 'Converted.csv'   # Replace with the desired output CSV file path\n",
    "column_to_convert = 'SiteNo'  # Replace 'ColumnName' with the name of the column you want to convert\n",
    "\n",
    "change_column_to_string(input_file, output_file, column_to_convert)\n"
   ]
  },
  {
   "cell_type": "code",
   "execution_count": null,
   "id": "eb31e813-e0a4-4e8c-a123-20cff22e7357",
   "metadata": {},
   "outputs": [],
   "source": []
  }
 ],
 "metadata": {
  "kernelspec": {
   "display_name": "Python 3 (ipykernel)",
   "language": "python",
   "name": "python3"
  },
  "language_info": {
   "codemirror_mode": {
    "name": "ipython",
    "version": 3
   },
   "file_extension": ".py",
   "mimetype": "text/x-python",
   "name": "python",
   "nbconvert_exporter": "python",
   "pygments_lexer": "ipython3",
   "version": "3.11.4"
  }
 },
 "nbformat": 4,
 "nbformat_minor": 5
}
